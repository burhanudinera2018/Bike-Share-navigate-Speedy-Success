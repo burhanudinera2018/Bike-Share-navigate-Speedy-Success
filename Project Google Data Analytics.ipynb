{
 "cells": [
  {
   "cell_type": "code",
   "execution_count": 1,
   "id": "6762fb58",
   "metadata": {},
   "outputs": [
    {
     "name": "stdout",
     "output_type": "stream",
     "text": [
      "Requirement already satisfied: pandas in /opt/anaconda3/lib/python3.9/site-packages (1.3.4)\n",
      "Requirement already satisfied: python-dateutil>=2.7.3 in /opt/anaconda3/lib/python3.9/site-packages (from pandas) (2.8.2)\n",
      "Requirement already satisfied: pytz>=2017.3 in /opt/anaconda3/lib/python3.9/site-packages (from pandas) (2021.3)\n",
      "Requirement already satisfied: numpy>=1.17.3 in /opt/anaconda3/lib/python3.9/site-packages (from pandas) (1.20.3)\n",
      "Requirement already satisfied: six>=1.5 in /opt/anaconda3/lib/python3.9/site-packages (from python-dateutil>=2.7.3->pandas) (1.16.0)\n",
      "Note: you may need to restart the kernel to use updated packages.\n"
     ]
    }
   ],
   "source": [
    "pip install pandas"
   ]
  },
  {
   "cell_type": "code",
   "execution_count": 2,
   "id": "3be72834",
   "metadata": {},
   "outputs": [],
   "source": [
    "import pandas as pd\n",
    "import numpy as np\n",
    "import matplotlib.pyplot as plt\n",
    "from matplotlib.ticker import ScalarFormatter\n",
    "import datetime\n",
    "from pandas.api.types import CategoricalDtype\n",
    "import seaborn as sns"
   ]
  },
  {
   "cell_type": "markdown",
   "id": "ea46a614",
   "metadata": {},
   "source": [
    "## Loading datasets"
   ]
  },
  {
   "cell_type": "code",
   "execution_count": 5,
   "id": "d30a2d40",
   "metadata": {},
   "outputs": [],
   "source": [
    "# Setting working directory\n",
    "import os\n",
    "os.chdir('/Users/mac/Documents/')"
   ]
  },
  {
   "cell_type": "code",
   "execution_count": 6,
   "id": "48e2d83e",
   "metadata": {},
   "outputs": [],
   "source": [
    "jan_2021_tripdata = pd.read_csv('data/202101-divvy-tripdata.csv')\n",
    "feb_2021_tripdata = pd.read_csv('data/202102-divvy-tripdata.csv')\n",
    "mar_2021_tripdata = pd.read_csv('data/202103-divvy-tripdata.csv')\n",
    "apr_2021_tripdata = pd.read_csv('data/202104-divvy-tripdata.csv')\n",
    "mei_2021_tripdata = pd.read_csv('data/202105-divvy-tripdata.csv')\n",
    "jun_2021_tripdata = pd.read_csv('data/202106-divvy-tripdata.csv')\n",
    "jul_2021_tripdata = pd.read_csv('data/202107-divvy-tripdata.csv')\n",
    "ags_2021_tripdata = pd.read_csv('data/202108-divvy-tripdata.csv')\n",
    "sep_2021_tripdata = pd.read_csv('data/202109-divvy-tripdata.csv')\n",
    "oct_2021_tripdata = pd.read_csv('data/202110-divvy-tripdata.csv')\n",
    "nov_2021_tripdata = pd.read_csv('data/202111-divvy-tripdata.csv')\n",
    "des_2021_tripdata = pd.read_csv('data/202112-divvy-tripdata.csv')"
   ]
  },
  {
   "cell_type": "markdown",
   "id": "02d37f9c",
   "metadata": {},
   "source": [
    "# Data Exploration"
   ]
  },
  {
   "cell_type": "markdown",
   "id": "c279c81c",
   "metadata": {},
   "source": [
    "### Mari kita mulai dengan melihat beberapa kumpulan data kita:"
   ]
  },
  {
   "cell_type": "code",
   "execution_count": 7,
   "id": "1903bc4a",
   "metadata": {},
   "outputs": [
    {
     "data": {
      "text/html": [
       "<div>\n",
       "<style scoped>\n",
       "    .dataframe tbody tr th:only-of-type {\n",
       "        vertical-align: middle;\n",
       "    }\n",
       "\n",
       "    .dataframe tbody tr th {\n",
       "        vertical-align: top;\n",
       "    }\n",
       "\n",
       "    .dataframe thead th {\n",
       "        text-align: right;\n",
       "    }\n",
       "</style>\n",
       "<table border=\"1\" class=\"dataframe\">\n",
       "  <thead>\n",
       "    <tr style=\"text-align: right;\">\n",
       "      <th></th>\n",
       "      <th>ride_id</th>\n",
       "      <th>rideable_type</th>\n",
       "      <th>started_at</th>\n",
       "      <th>ended_at</th>\n",
       "      <th>start_station_name</th>\n",
       "      <th>start_station_id</th>\n",
       "      <th>end_station_name</th>\n",
       "      <th>end_station_id</th>\n",
       "      <th>start_lat</th>\n",
       "      <th>start_lng</th>\n",
       "      <th>end_lat</th>\n",
       "      <th>end_lng</th>\n",
       "      <th>member_casual</th>\n",
       "    </tr>\n",
       "  </thead>\n",
       "  <tbody>\n",
       "    <tr>\n",
       "      <th>0</th>\n",
       "      <td>E19E6F1B8D4C42ED</td>\n",
       "      <td>electric_bike</td>\n",
       "      <td>2021-01-23 16:14:19</td>\n",
       "      <td>2021-01-23 16:24:44</td>\n",
       "      <td>California Ave &amp; Cortez St</td>\n",
       "      <td>17660</td>\n",
       "      <td>NaN</td>\n",
       "      <td>NaN</td>\n",
       "      <td>41.900341</td>\n",
       "      <td>-87.696743</td>\n",
       "      <td>41.89</td>\n",
       "      <td>-87.72</td>\n",
       "      <td>member</td>\n",
       "    </tr>\n",
       "    <tr>\n",
       "      <th>1</th>\n",
       "      <td>DC88F20C2C55F27F</td>\n",
       "      <td>electric_bike</td>\n",
       "      <td>2021-01-27 18:43:08</td>\n",
       "      <td>2021-01-27 18:47:12</td>\n",
       "      <td>California Ave &amp; Cortez St</td>\n",
       "      <td>17660</td>\n",
       "      <td>NaN</td>\n",
       "      <td>NaN</td>\n",
       "      <td>41.900333</td>\n",
       "      <td>-87.696707</td>\n",
       "      <td>41.90</td>\n",
       "      <td>-87.69</td>\n",
       "      <td>member</td>\n",
       "    </tr>\n",
       "    <tr>\n",
       "      <th>2</th>\n",
       "      <td>EC45C94683FE3F27</td>\n",
       "      <td>electric_bike</td>\n",
       "      <td>2021-01-21 22:35:54</td>\n",
       "      <td>2021-01-21 22:37:14</td>\n",
       "      <td>California Ave &amp; Cortez St</td>\n",
       "      <td>17660</td>\n",
       "      <td>NaN</td>\n",
       "      <td>NaN</td>\n",
       "      <td>41.900313</td>\n",
       "      <td>-87.696643</td>\n",
       "      <td>41.90</td>\n",
       "      <td>-87.70</td>\n",
       "      <td>member</td>\n",
       "    </tr>\n",
       "    <tr>\n",
       "      <th>3</th>\n",
       "      <td>4FA453A75AE377DB</td>\n",
       "      <td>electric_bike</td>\n",
       "      <td>2021-01-07 13:31:13</td>\n",
       "      <td>2021-01-07 13:42:55</td>\n",
       "      <td>California Ave &amp; Cortez St</td>\n",
       "      <td>17660</td>\n",
       "      <td>NaN</td>\n",
       "      <td>NaN</td>\n",
       "      <td>41.900399</td>\n",
       "      <td>-87.696662</td>\n",
       "      <td>41.92</td>\n",
       "      <td>-87.69</td>\n",
       "      <td>member</td>\n",
       "    </tr>\n",
       "    <tr>\n",
       "      <th>4</th>\n",
       "      <td>BE5E8EB4E7263A0B</td>\n",
       "      <td>electric_bike</td>\n",
       "      <td>2021-01-23 02:24:02</td>\n",
       "      <td>2021-01-23 02:24:45</td>\n",
       "      <td>California Ave &amp; Cortez St</td>\n",
       "      <td>17660</td>\n",
       "      <td>NaN</td>\n",
       "      <td>NaN</td>\n",
       "      <td>41.900326</td>\n",
       "      <td>-87.696697</td>\n",
       "      <td>41.90</td>\n",
       "      <td>-87.70</td>\n",
       "      <td>casual</td>\n",
       "    </tr>\n",
       "  </tbody>\n",
       "</table>\n",
       "</div>"
      ],
      "text/plain": [
       "            ride_id  rideable_type           started_at             ended_at  \\\n",
       "0  E19E6F1B8D4C42ED  electric_bike  2021-01-23 16:14:19  2021-01-23 16:24:44   \n",
       "1  DC88F20C2C55F27F  electric_bike  2021-01-27 18:43:08  2021-01-27 18:47:12   \n",
       "2  EC45C94683FE3F27  electric_bike  2021-01-21 22:35:54  2021-01-21 22:37:14   \n",
       "3  4FA453A75AE377DB  electric_bike  2021-01-07 13:31:13  2021-01-07 13:42:55   \n",
       "4  BE5E8EB4E7263A0B  electric_bike  2021-01-23 02:24:02  2021-01-23 02:24:45   \n",
       "\n",
       "           start_station_name start_station_id end_station_name  \\\n",
       "0  California Ave & Cortez St            17660              NaN   \n",
       "1  California Ave & Cortez St            17660              NaN   \n",
       "2  California Ave & Cortez St            17660              NaN   \n",
       "3  California Ave & Cortez St            17660              NaN   \n",
       "4  California Ave & Cortez St            17660              NaN   \n",
       "\n",
       "  end_station_id  start_lat  start_lng  end_lat  end_lng member_casual  \n",
       "0            NaN  41.900341 -87.696743    41.89   -87.72        member  \n",
       "1            NaN  41.900333 -87.696707    41.90   -87.69        member  \n",
       "2            NaN  41.900313 -87.696643    41.90   -87.70        member  \n",
       "3            NaN  41.900399 -87.696662    41.92   -87.69        member  \n",
       "4            NaN  41.900326 -87.696697    41.90   -87.70        casual  "
      ]
     },
     "execution_count": 7,
     "metadata": {},
     "output_type": "execute_result"
    }
   ],
   "source": [
    "jan_2021_tripdata.head()"
   ]
  },
  {
   "cell_type": "code",
   "execution_count": 8,
   "id": "76a821e3",
   "metadata": {},
   "outputs": [
    {
     "data": {
      "text/html": [
       "<div>\n",
       "<style scoped>\n",
       "    .dataframe tbody tr th:only-of-type {\n",
       "        vertical-align: middle;\n",
       "    }\n",
       "\n",
       "    .dataframe tbody tr th {\n",
       "        vertical-align: top;\n",
       "    }\n",
       "\n",
       "    .dataframe thead th {\n",
       "        text-align: right;\n",
       "    }\n",
       "</style>\n",
       "<table border=\"1\" class=\"dataframe\">\n",
       "  <thead>\n",
       "    <tr style=\"text-align: right;\">\n",
       "      <th></th>\n",
       "      <th>ride_id</th>\n",
       "      <th>rideable_type</th>\n",
       "      <th>started_at</th>\n",
       "      <th>ended_at</th>\n",
       "      <th>start_station_name</th>\n",
       "      <th>start_station_id</th>\n",
       "      <th>end_station_name</th>\n",
       "      <th>end_station_id</th>\n",
       "      <th>start_lat</th>\n",
       "      <th>start_lng</th>\n",
       "      <th>end_lat</th>\n",
       "      <th>end_lng</th>\n",
       "      <th>member_casual</th>\n",
       "    </tr>\n",
       "  </thead>\n",
       "  <tbody>\n",
       "    <tr>\n",
       "      <th>0</th>\n",
       "      <td>0A1B623926EF4E16</td>\n",
       "      <td>docked_bike</td>\n",
       "      <td>2021-07-02 14:44:36</td>\n",
       "      <td>2021-07-02 15:19:58</td>\n",
       "      <td>Michigan Ave &amp; Washington St</td>\n",
       "      <td>13001</td>\n",
       "      <td>Halsted St &amp; North Branch St</td>\n",
       "      <td>KA1504000117</td>\n",
       "      <td>41.883984</td>\n",
       "      <td>-87.624684</td>\n",
       "      <td>41.899368</td>\n",
       "      <td>-87.648480</td>\n",
       "      <td>casual</td>\n",
       "    </tr>\n",
       "    <tr>\n",
       "      <th>1</th>\n",
       "      <td>B2D5583A5A5E76EE</td>\n",
       "      <td>classic_bike</td>\n",
       "      <td>2021-07-07 16:57:42</td>\n",
       "      <td>2021-07-07 17:16:09</td>\n",
       "      <td>California Ave &amp; Cortez St</td>\n",
       "      <td>17660</td>\n",
       "      <td>Wood St &amp; Hubbard St</td>\n",
       "      <td>13432</td>\n",
       "      <td>41.900363</td>\n",
       "      <td>-87.696704</td>\n",
       "      <td>41.889899</td>\n",
       "      <td>-87.671473</td>\n",
       "      <td>casual</td>\n",
       "    </tr>\n",
       "    <tr>\n",
       "      <th>2</th>\n",
       "      <td>6F264597DDBF427A</td>\n",
       "      <td>classic_bike</td>\n",
       "      <td>2021-07-25 11:30:55</td>\n",
       "      <td>2021-07-25 11:48:45</td>\n",
       "      <td>Wabash Ave &amp; 16th St</td>\n",
       "      <td>SL-012</td>\n",
       "      <td>Rush St &amp; Hubbard St</td>\n",
       "      <td>KA1503000044</td>\n",
       "      <td>41.860384</td>\n",
       "      <td>-87.625813</td>\n",
       "      <td>41.890173</td>\n",
       "      <td>-87.626185</td>\n",
       "      <td>member</td>\n",
       "    </tr>\n",
       "    <tr>\n",
       "      <th>3</th>\n",
       "      <td>379B58EAB20E8AA5</td>\n",
       "      <td>classic_bike</td>\n",
       "      <td>2021-07-08 22:08:30</td>\n",
       "      <td>2021-07-08 22:23:32</td>\n",
       "      <td>California Ave &amp; Cortez St</td>\n",
       "      <td>17660</td>\n",
       "      <td>Carpenter St &amp; Huron St</td>\n",
       "      <td>13196</td>\n",
       "      <td>41.900363</td>\n",
       "      <td>-87.696704</td>\n",
       "      <td>41.894556</td>\n",
       "      <td>-87.653449</td>\n",
       "      <td>member</td>\n",
       "    </tr>\n",
       "    <tr>\n",
       "      <th>4</th>\n",
       "      <td>6615C1E4EB08E8FB</td>\n",
       "      <td>electric_bike</td>\n",
       "      <td>2021-07-28 16:08:06</td>\n",
       "      <td>2021-07-28 16:27:09</td>\n",
       "      <td>California Ave &amp; Cortez St</td>\n",
       "      <td>17660</td>\n",
       "      <td>Elizabeth (May) St &amp; Fulton St</td>\n",
       "      <td>13197</td>\n",
       "      <td>41.900350</td>\n",
       "      <td>-87.696682</td>\n",
       "      <td>41.886593</td>\n",
       "      <td>-87.658387</td>\n",
       "      <td>casual</td>\n",
       "    </tr>\n",
       "  </tbody>\n",
       "</table>\n",
       "</div>"
      ],
      "text/plain": [
       "            ride_id  rideable_type           started_at             ended_at  \\\n",
       "0  0A1B623926EF4E16    docked_bike  2021-07-02 14:44:36  2021-07-02 15:19:58   \n",
       "1  B2D5583A5A5E76EE   classic_bike  2021-07-07 16:57:42  2021-07-07 17:16:09   \n",
       "2  6F264597DDBF427A   classic_bike  2021-07-25 11:30:55  2021-07-25 11:48:45   \n",
       "3  379B58EAB20E8AA5   classic_bike  2021-07-08 22:08:30  2021-07-08 22:23:32   \n",
       "4  6615C1E4EB08E8FB  electric_bike  2021-07-28 16:08:06  2021-07-28 16:27:09   \n",
       "\n",
       "             start_station_name start_station_id  \\\n",
       "0  Michigan Ave & Washington St            13001   \n",
       "1    California Ave & Cortez St            17660   \n",
       "2          Wabash Ave & 16th St           SL-012   \n",
       "3    California Ave & Cortez St            17660   \n",
       "4    California Ave & Cortez St            17660   \n",
       "\n",
       "                 end_station_name end_station_id  start_lat  start_lng  \\\n",
       "0    Halsted St & North Branch St   KA1504000117  41.883984 -87.624684   \n",
       "1            Wood St & Hubbard St          13432  41.900363 -87.696704   \n",
       "2            Rush St & Hubbard St   KA1503000044  41.860384 -87.625813   \n",
       "3         Carpenter St & Huron St          13196  41.900363 -87.696704   \n",
       "4  Elizabeth (May) St & Fulton St          13197  41.900350 -87.696682   \n",
       "\n",
       "     end_lat    end_lng member_casual  \n",
       "0  41.899368 -87.648480        casual  \n",
       "1  41.889899 -87.671473        casual  \n",
       "2  41.890173 -87.626185        member  \n",
       "3  41.894556 -87.653449        member  \n",
       "4  41.886593 -87.658387        casual  "
      ]
     },
     "execution_count": 8,
     "metadata": {},
     "output_type": "execute_result"
    }
   ],
   "source": [
    "jul_2021_tripdata.head()"
   ]
  },
  {
   "cell_type": "markdown",
   "id": "ddbafb32",
   "metadata": {},
   "source": [
    "#### Seperti yang bisa kita lihat, kumpulan data berisi kolom yang sama. Karena ada 12 dataset, kita harus menggabungkannya menjadi satu saja. Ini akan membuat lebih mudah untuk membersihkan data, melakukan transformasi, dan melakukan analisis."
   ]
  },
  {
   "cell_type": "markdown",
   "id": "b0ee6d07",
   "metadata": {},
   "source": [
    "#### In order to do this, we will use the concat() function. You can think of it as Python's version of a SQL UNION."
   ]
  },
  {
   "cell_type": "code",
   "execution_count": 9,
   "id": "d7409120",
   "metadata": {},
   "outputs": [],
   "source": [
    "tripdata = pd.concat([jan_2021_tripdata,feb_2021_tripdata,mar_2021_tripdata,apr_2021_tripdata,mei_2021_tripdata,jun_2021_tripdata,\n",
    "                     jul_2021_tripdata,ags_2021_tripdata,sep_2021_tripdata,oct_2021_tripdata,nov_2021_tripdata,des_2021_tripdata])"
   ]
  },
  {
   "cell_type": "markdown",
   "id": "9e3e05af",
   "metadata": {},
   "source": [
    "### Checking the data types in the dataset"
   ]
  },
  {
   "cell_type": "code",
   "execution_count": 10,
   "id": "326a8445",
   "metadata": {},
   "outputs": [
    {
     "data": {
      "text/plain": [
       "ride_id                object\n",
       "rideable_type          object\n",
       "started_at             object\n",
       "ended_at               object\n",
       "start_station_name     object\n",
       "start_station_id       object\n",
       "end_station_name       object\n",
       "end_station_id         object\n",
       "start_lat             float64\n",
       "start_lng             float64\n",
       "end_lat               float64\n",
       "end_lng               float64\n",
       "member_casual          object\n",
       "dtype: object"
      ]
     },
     "execution_count": 10,
     "metadata": {},
     "output_type": "execute_result"
    }
   ],
   "source": [
    "tripdata.dtypes"
   ]
  },
  {
   "cell_type": "markdown",
   "id": "231edb42",
   "metadata": {},
   "source": [
    "#### Langkah selanjutnya pelajari lebih lanjut tentang beberapa karakteristik dataset kita, sehingga kita dapat memahami kontennya dengan lebih baik."
   ]
  },
  {
   "cell_type": "markdown",
   "id": "e79bc9c2",
   "metadata": {},
   "source": [
    "### How many unique rides are there in total?"
   ]
  },
  {
   "cell_type": "code",
   "execution_count": 12,
   "id": "fca16dca",
   "metadata": {},
   "outputs": [
    {
     "data": {
      "text/plain": [
       "5595063"
      ]
     },
     "execution_count": 12,
     "metadata": {},
     "output_type": "execute_result"
    }
   ],
   "source": [
    "tripdata.ride_id.nunique()"
   ]
  },
  {
   "cell_type": "markdown",
   "id": "a0a0a603",
   "metadata": {},
   "source": [
    "### How many types of bikes are there?"
   ]
  },
  {
   "cell_type": "code",
   "execution_count": 13,
   "id": "2508e272",
   "metadata": {},
   "outputs": [
    {
     "data": {
      "text/plain": [
       "3"
      ]
     },
     "execution_count": 13,
     "metadata": {},
     "output_type": "execute_result"
    }
   ],
   "source": [
    "tripdata.rideable_type.nunique()"
   ]
  },
  {
   "cell_type": "markdown",
   "id": "ad8e3a92",
   "metadata": {},
   "source": [
    "### How many rows and columns are there in the dataframe?\n"
   ]
  },
  {
   "cell_type": "code",
   "execution_count": 14,
   "id": "d64cea74",
   "metadata": {},
   "outputs": [
    {
     "data": {
      "text/plain": [
       "(5595063, 13)"
      ]
     },
     "execution_count": 14,
     "metadata": {},
     "output_type": "execute_result"
    }
   ],
   "source": [
    "tripdata.shape"
   ]
  },
  {
   "cell_type": "markdown",
   "id": "f86fdc34",
   "metadata": {},
   "source": [
    "# Cleaning Data\n"
   ]
  },
  {
   "cell_type": "markdown",
   "id": "6b1e86e2",
   "metadata": {},
   "source": [
    "### Checking for empty cells"
   ]
  },
  {
   "cell_type": "code",
   "execution_count": 15,
   "id": "2664d23c",
   "metadata": {},
   "outputs": [
    {
     "data": {
      "text/plain": [
       "ride_id               False\n",
       "rideable_type         False\n",
       "started_at            False\n",
       "ended_at              False\n",
       "start_station_name     True\n",
       "start_station_id       True\n",
       "end_station_name       True\n",
       "end_station_id         True\n",
       "start_lat             False\n",
       "start_lng             False\n",
       "end_lat                True\n",
       "end_lng                True\n",
       "member_casual         False\n",
       "dtype: bool"
      ]
     },
     "execution_count": 15,
     "metadata": {},
     "output_type": "execute_result"
    }
   ],
   "source": [
    "tripdata.isnull().any()"
   ]
  },
  {
   "cell_type": "markdown",
   "id": "0c43315f",
   "metadata": {},
   "source": [
    "### Kami memang memiliki nilai null dalam dataset kami. Mari kita lihat berapa banyak dari mereka yang kita hadapi:"
   ]
  },
  {
   "cell_type": "code",
   "execution_count": 16,
   "id": "762ebe92",
   "metadata": {},
   "outputs": [
    {
     "data": {
      "text/plain": [
       "2869497"
      ]
     },
     "execution_count": 16,
     "metadata": {},
     "output_type": "execute_result"
    }
   ],
   "source": [
    "tripdata.isnull().values.sum()"
   ]
  },
  {
   "cell_type": "markdown",
   "id": "0e37d7ef",
   "metadata": {},
   "source": [
    "##### Seperti yang dapat kita lihat di atas, ada nilai null di kolom berikut: start_station_name , start_station_id, end_station_name, end_station_id, end_lat, dan end_lng."
   ]
  },
  {
   "cell_type": "markdown",
   "id": "6680d4e7",
   "metadata": {},
   "source": [
    "###### Mengingat bahwa kami tidak akan menggunakan kolom tersebut dalam analisis kami, tidak perlu khawatir tentang menghapus nilai null. Kita bisa melanjutkan dan drop kolom sama sekali."
   ]
  },
  {
   "cell_type": "markdown",
   "id": "80871ee9",
   "metadata": {},
   "source": [
    "### Dropping Unnecessary Columns"
   ]
  },
  {
   "cell_type": "code",
   "execution_count": 17,
   "id": "417105d1",
   "metadata": {},
   "outputs": [],
   "source": [
    "to_drop = ['start_station_name',\n",
    "           'start_station_id',\n",
    "           'end_station_name',\n",
    "           'end_station_id',\n",
    "           'start_lat',\n",
    "           'start_lng',\n",
    "           'end_lat',\n",
    "           'end_lng']\n",
    "\n",
    "tripdata.drop(to_drop, inplace=True, axis=1)"
   ]
  },
  {
   "cell_type": "code",
   "execution_count": 18,
   "id": "17255c86",
   "metadata": {},
   "outputs": [
    {
     "data": {
      "text/html": [
       "<div>\n",
       "<style scoped>\n",
       "    .dataframe tbody tr th:only-of-type {\n",
       "        vertical-align: middle;\n",
       "    }\n",
       "\n",
       "    .dataframe tbody tr th {\n",
       "        vertical-align: top;\n",
       "    }\n",
       "\n",
       "    .dataframe thead th {\n",
       "        text-align: right;\n",
       "    }\n",
       "</style>\n",
       "<table border=\"1\" class=\"dataframe\">\n",
       "  <thead>\n",
       "    <tr style=\"text-align: right;\">\n",
       "      <th></th>\n",
       "      <th>ride_id</th>\n",
       "      <th>rideable_type</th>\n",
       "      <th>started_at</th>\n",
       "      <th>ended_at</th>\n",
       "      <th>member_casual</th>\n",
       "    </tr>\n",
       "  </thead>\n",
       "  <tbody>\n",
       "    <tr>\n",
       "      <th>0</th>\n",
       "      <td>E19E6F1B8D4C42ED</td>\n",
       "      <td>electric_bike</td>\n",
       "      <td>2021-01-23 16:14:19</td>\n",
       "      <td>2021-01-23 16:24:44</td>\n",
       "      <td>member</td>\n",
       "    </tr>\n",
       "    <tr>\n",
       "      <th>1</th>\n",
       "      <td>DC88F20C2C55F27F</td>\n",
       "      <td>electric_bike</td>\n",
       "      <td>2021-01-27 18:43:08</td>\n",
       "      <td>2021-01-27 18:47:12</td>\n",
       "      <td>member</td>\n",
       "    </tr>\n",
       "    <tr>\n",
       "      <th>2</th>\n",
       "      <td>EC45C94683FE3F27</td>\n",
       "      <td>electric_bike</td>\n",
       "      <td>2021-01-21 22:35:54</td>\n",
       "      <td>2021-01-21 22:37:14</td>\n",
       "      <td>member</td>\n",
       "    </tr>\n",
       "    <tr>\n",
       "      <th>3</th>\n",
       "      <td>4FA453A75AE377DB</td>\n",
       "      <td>electric_bike</td>\n",
       "      <td>2021-01-07 13:31:13</td>\n",
       "      <td>2021-01-07 13:42:55</td>\n",
       "      <td>member</td>\n",
       "    </tr>\n",
       "    <tr>\n",
       "      <th>4</th>\n",
       "      <td>BE5E8EB4E7263A0B</td>\n",
       "      <td>electric_bike</td>\n",
       "      <td>2021-01-23 02:24:02</td>\n",
       "      <td>2021-01-23 02:24:45</td>\n",
       "      <td>casual</td>\n",
       "    </tr>\n",
       "  </tbody>\n",
       "</table>\n",
       "</div>"
      ],
      "text/plain": [
       "            ride_id  rideable_type           started_at             ended_at  \\\n",
       "0  E19E6F1B8D4C42ED  electric_bike  2021-01-23 16:14:19  2021-01-23 16:24:44   \n",
       "1  DC88F20C2C55F27F  electric_bike  2021-01-27 18:43:08  2021-01-27 18:47:12   \n",
       "2  EC45C94683FE3F27  electric_bike  2021-01-21 22:35:54  2021-01-21 22:37:14   \n",
       "3  4FA453A75AE377DB  electric_bike  2021-01-07 13:31:13  2021-01-07 13:42:55   \n",
       "4  BE5E8EB4E7263A0B  electric_bike  2021-01-23 02:24:02  2021-01-23 02:24:45   \n",
       "\n",
       "  member_casual  \n",
       "0        member  \n",
       "1        member  \n",
       "2        member  \n",
       "3        member  \n",
       "4        casual  "
      ]
     },
     "execution_count": 18,
     "metadata": {},
     "output_type": "execute_result"
    }
   ],
   "source": [
    "#### Hasil akhir akan seperti ini:\n",
    "tripdata.head()"
   ]
  },
  {
   "cell_type": "markdown",
   "id": "16ff15f2",
   "metadata": {},
   "source": [
    "### Looking for duplicate values"
   ]
  },
  {
   "cell_type": "code",
   "execution_count": 19,
   "id": "a965581c",
   "metadata": {},
   "outputs": [
    {
     "data": {
      "text/plain": [
       "0         False\n",
       "1         False\n",
       "2         False\n",
       "3         False\n",
       "4         False\n",
       "          ...  \n",
       "247535    False\n",
       "247536    False\n",
       "247537    False\n",
       "247538    False\n",
       "247539    False\n",
       "Length: 5595063, dtype: bool"
      ]
     },
     "execution_count": 19,
     "metadata": {},
     "output_type": "execute_result"
    }
   ],
   "source": [
    "tripdata.duplicated()"
   ]
  },
  {
   "cell_type": "markdown",
   "id": "47abb476",
   "metadata": {},
   "source": [
    "##### No duplicate rows found."
   ]
  },
  {
   "cell_type": "markdown",
   "id": "112dcad3",
   "metadata": {},
   "source": [
    "## 4. ANALYZE"
   ]
  },
  {
   "cell_type": "markdown",
   "id": "56364f86",
   "metadata": {},
   "source": [
    "##### Sekarang, kita akan melakukan transformasi data dan mengubah format data untuk melakukan analisis."
   ]
  },
  {
   "cell_type": "markdown",
   "id": "179dec3e",
   "metadata": {},
   "source": [
    "### Data Transformation"
   ]
  },
  {
   "cell_type": "markdown",
   "id": "251290f5",
   "metadata": {},
   "source": [
    "##### In this next step, we will transform certain aspects of the data in order to analyze them."
   ]
  },
  {
   "cell_type": "markdown",
   "id": "69da86a2",
   "metadata": {},
   "source": [
    "### Changing data formatting\n",
    "+ When using dtypes, we learned that some of our columns are of type object. We need to change the data type from columns started_at and ended_at to datetime to perform calculations."
   ]
  },
  {
   "cell_type": "code",
   "execution_count": 20,
   "id": "e1bbb0cb",
   "metadata": {},
   "outputs": [],
   "source": [
    "tripdata['started_at'] = pd.to_datetime(tripdata['started_at'])\n",
    "\n",
    "tripdata['ended_at'] = pd.to_datetime(tripdata['ended_at'])"
   ]
  },
  {
   "cell_type": "markdown",
   "id": "5e8b878e",
   "metadata": {},
   "source": [
    "### Creating an hour column"
   ]
  },
  {
   "cell_type": "code",
   "execution_count": 21,
   "id": "0d2229f7",
   "metadata": {},
   "outputs": [],
   "source": [
    "tripdata['hour'] = tripdata['started_at'].dt.hour\n",
    "tripdata = tripdata.astype({'hour':'int8'})"
   ]
  },
  {
   "cell_type": "markdown",
   "id": "b2dc7f3f",
   "metadata": {},
   "source": [
    "### Creating a day of the week column"
   ]
  },
  {
   "cell_type": "code",
   "execution_count": 22,
   "id": "244fbbee",
   "metadata": {},
   "outputs": [],
   "source": [
    "tripdata['dayofweek'] = tripdata['started_at'].dt.day_name()"
   ]
  },
  {
   "cell_type": "markdown",
   "id": "ff3d237a",
   "metadata": {},
   "source": [
    "### Creating a month column"
   ]
  },
  {
   "cell_type": "code",
   "execution_count": 24,
   "id": "70c6944d",
   "metadata": {},
   "outputs": [],
   "source": [
    "tripdata['month'] = tripdata['started_at'].dt.month_name()"
   ]
  },
  {
   "cell_type": "markdown",
   "id": "ecf7ad26",
   "metadata": {},
   "source": [
    "### Creating a ride length column\n",
    "+ This column will show us the ride length in minutes for each ride."
   ]
  },
  {
   "cell_type": "code",
   "execution_count": 25,
   "id": "a123c395",
   "metadata": {},
   "outputs": [],
   "source": [
    "tripdata['ride_length'] = (tripdata['ended_at'] - tripdata['started_at']) / datetime.timedelta(minutes=1)\n",
    "tripdata['ride_length'] = tripdata['ride_length'].astype('int32')"
   ]
  },
  {
   "cell_type": "markdown",
   "id": "eade157d",
   "metadata": {},
   "source": [
    "### Removing outliers\n",
    "+ Now, we will check for any rows with zero or negative values in the ride_length column and remove them."
   ]
  },
  {
   "cell_type": "code",
   "execution_count": 26,
   "id": "d15513e6",
   "metadata": {},
   "outputs": [
    {
     "data": {
      "text/plain": [
       "ride_id          85233\n",
       "rideable_type    85233\n",
       "started_at       85233\n",
       "ended_at         85233\n",
       "member_casual    85233\n",
       "hour             85233\n",
       "dayofweek        85233\n",
       "month            85233\n",
       "ride_length      85233\n",
       "dtype: int64"
      ]
     },
     "execution_count": 26,
     "metadata": {},
     "output_type": "execute_result"
    }
   ],
   "source": [
    "tripdata[tripdata['ride_length'] <= 0].count()"
   ]
  },
  {
   "cell_type": "code",
   "execution_count": 27,
   "id": "83ef8fc1",
   "metadata": {},
   "outputs": [],
   "source": [
    "# removing rows with zero or negative values\n",
    "tripdata = tripdata.drop(tripdata[tripdata.ride_length <= 0].index)"
   ]
  },
  {
   "cell_type": "markdown",
   "id": "e0efb439",
   "metadata": {},
   "source": [
    "+ Our dataset is ready to be analyzed."
   ]
  },
  {
   "cell_type": "code",
   "execution_count": 28,
   "id": "6b0683f0",
   "metadata": {},
   "outputs": [
    {
     "data": {
      "text/html": [
       "<div>\n",
       "<style scoped>\n",
       "    .dataframe tbody tr th:only-of-type {\n",
       "        vertical-align: middle;\n",
       "    }\n",
       "\n",
       "    .dataframe tbody tr th {\n",
       "        vertical-align: top;\n",
       "    }\n",
       "\n",
       "    .dataframe thead th {\n",
       "        text-align: right;\n",
       "    }\n",
       "</style>\n",
       "<table border=\"1\" class=\"dataframe\">\n",
       "  <thead>\n",
       "    <tr style=\"text-align: right;\">\n",
       "      <th></th>\n",
       "      <th>ride_id</th>\n",
       "      <th>rideable_type</th>\n",
       "      <th>started_at</th>\n",
       "      <th>ended_at</th>\n",
       "      <th>member_casual</th>\n",
       "      <th>hour</th>\n",
       "      <th>dayofweek</th>\n",
       "      <th>month</th>\n",
       "      <th>ride_length</th>\n",
       "    </tr>\n",
       "  </thead>\n",
       "  <tbody>\n",
       "    <tr>\n",
       "      <th>0</th>\n",
       "      <td>E19E6F1B8D4C42ED</td>\n",
       "      <td>electric_bike</td>\n",
       "      <td>2021-01-23 16:14:19</td>\n",
       "      <td>2021-01-23 16:24:44</td>\n",
       "      <td>member</td>\n",
       "      <td>16</td>\n",
       "      <td>Saturday</td>\n",
       "      <td>January</td>\n",
       "      <td>10</td>\n",
       "    </tr>\n",
       "    <tr>\n",
       "      <th>1</th>\n",
       "      <td>DC88F20C2C55F27F</td>\n",
       "      <td>electric_bike</td>\n",
       "      <td>2021-01-27 18:43:08</td>\n",
       "      <td>2021-01-27 18:47:12</td>\n",
       "      <td>member</td>\n",
       "      <td>18</td>\n",
       "      <td>Wednesday</td>\n",
       "      <td>January</td>\n",
       "      <td>4</td>\n",
       "    </tr>\n",
       "    <tr>\n",
       "      <th>2</th>\n",
       "      <td>EC45C94683FE3F27</td>\n",
       "      <td>electric_bike</td>\n",
       "      <td>2021-01-21 22:35:54</td>\n",
       "      <td>2021-01-21 22:37:14</td>\n",
       "      <td>member</td>\n",
       "      <td>22</td>\n",
       "      <td>Thursday</td>\n",
       "      <td>January</td>\n",
       "      <td>1</td>\n",
       "    </tr>\n",
       "    <tr>\n",
       "      <th>3</th>\n",
       "      <td>4FA453A75AE377DB</td>\n",
       "      <td>electric_bike</td>\n",
       "      <td>2021-01-07 13:31:13</td>\n",
       "      <td>2021-01-07 13:42:55</td>\n",
       "      <td>member</td>\n",
       "      <td>13</td>\n",
       "      <td>Thursday</td>\n",
       "      <td>January</td>\n",
       "      <td>11</td>\n",
       "    </tr>\n",
       "    <tr>\n",
       "      <th>9</th>\n",
       "      <td>B9F73448DFBE0D45</td>\n",
       "      <td>classic_bike</td>\n",
       "      <td>2021-01-24 19:15:38</td>\n",
       "      <td>2021-01-24 19:22:51</td>\n",
       "      <td>member</td>\n",
       "      <td>19</td>\n",
       "      <td>Sunday</td>\n",
       "      <td>January</td>\n",
       "      <td>7</td>\n",
       "    </tr>\n",
       "  </tbody>\n",
       "</table>\n",
       "</div>"
      ],
      "text/plain": [
       "            ride_id  rideable_type          started_at            ended_at  \\\n",
       "0  E19E6F1B8D4C42ED  electric_bike 2021-01-23 16:14:19 2021-01-23 16:24:44   \n",
       "1  DC88F20C2C55F27F  electric_bike 2021-01-27 18:43:08 2021-01-27 18:47:12   \n",
       "2  EC45C94683FE3F27  electric_bike 2021-01-21 22:35:54 2021-01-21 22:37:14   \n",
       "3  4FA453A75AE377DB  electric_bike 2021-01-07 13:31:13 2021-01-07 13:42:55   \n",
       "9  B9F73448DFBE0D45   classic_bike 2021-01-24 19:15:38 2021-01-24 19:22:51   \n",
       "\n",
       "  member_casual  hour  dayofweek    month  ride_length  \n",
       "0        member    16   Saturday  January           10  \n",
       "1        member    18  Wednesday  January            4  \n",
       "2        member    22   Thursday  January            1  \n",
       "3        member    13   Thursday  January           11  \n",
       "9        member    19     Sunday  January            7  "
      ]
     },
     "execution_count": 28,
     "metadata": {},
     "output_type": "execute_result"
    }
   ],
   "source": [
    "tripdata.head()"
   ]
  },
  {
   "cell_type": "markdown",
   "id": "f3f03fc2",
   "metadata": {},
   "source": [
    "# Trip Data\n",
    "+ Kami sekarang akan melihat lebih dekat pada informasi yang lebih spesifik seputar dataframe  kami. Karena tugas bisnis kami adalah untuk mengetahui bagaimana pengendara biasa dan anggota menggunakan sepeda sepeda secara berbeda, kami akan memfilter data dan membuat beberapa tabel pivot untuk membandingkan angka dari dua jenis pelanggan."
   ]
  },
  {
   "cell_type": "markdown",
   "id": "45295a82",
   "metadata": {},
   "source": [
    "### Rides by Customer Type"
   ]
  },
  {
   "cell_type": "code",
   "execution_count": 30,
   "id": "1ab2ae0f",
   "metadata": {},
   "outputs": [
    {
     "data": {
      "text/html": [
       "<div>\n",
       "<style scoped>\n",
       "    .dataframe tbody tr th:only-of-type {\n",
       "        vertical-align: middle;\n",
       "    }\n",
       "\n",
       "    .dataframe tbody tr th {\n",
       "        vertical-align: top;\n",
       "    }\n",
       "\n",
       "    .dataframe thead th {\n",
       "        text-align: right;\n",
       "    }\n",
       "</style>\n",
       "<table border=\"1\" class=\"dataframe\">\n",
       "  <thead>\n",
       "    <tr style=\"text-align: right;\">\n",
       "      <th></th>\n",
       "      <th>ride_id</th>\n",
       "    </tr>\n",
       "    <tr>\n",
       "      <th>member_casual</th>\n",
       "      <th></th>\n",
       "    </tr>\n",
       "  </thead>\n",
       "  <tbody>\n",
       "    <tr>\n",
       "      <th>casual</th>\n",
       "      <td>2253518</td>\n",
       "    </tr>\n",
       "    <tr>\n",
       "      <th>member</th>\n",
       "      <td>2704917</td>\n",
       "    </tr>\n",
       "  </tbody>\n",
       "</table>\n",
       "</div>"
      ],
      "text/plain": [
       "               ride_id\n",
       "member_casual         \n",
       "casual         2253518\n",
       "member         2704917"
      ]
     },
     "execution_count": 30,
     "metadata": {},
     "output_type": "execute_result"
    }
   ],
   "source": [
    "df = tripdata.groupby('member_casual', as_index=True)[['ride_id']].count()\n",
    "df"
   ]
  },
  {
   "cell_type": "markdown",
   "id": "ac5f9718",
   "metadata": {},
   "source": [
    "### Average Ride Length"
   ]
  },
  {
   "cell_type": "code",
   "execution_count": 31,
   "id": "f8022ca8",
   "metadata": {},
   "outputs": [
    {
     "data": {
      "text/html": [
       "<div>\n",
       "<style scoped>\n",
       "    .dataframe tbody tr th:only-of-type {\n",
       "        vertical-align: middle;\n",
       "    }\n",
       "\n",
       "    .dataframe tbody tr th {\n",
       "        vertical-align: top;\n",
       "    }\n",
       "\n",
       "    .dataframe thead th {\n",
       "        text-align: right;\n",
       "    }\n",
       "</style>\n",
       "<table border=\"1\" class=\"dataframe\">\n",
       "  <thead>\n",
       "    <tr style=\"text-align: right;\">\n",
       "      <th></th>\n",
       "      <th>ride_length</th>\n",
       "    </tr>\n",
       "    <tr>\n",
       "      <th>member_casual</th>\n",
       "      <th></th>\n",
       "    </tr>\n",
       "  </thead>\n",
       "  <tbody>\n",
       "    <tr>\n",
       "      <th>casual</th>\n",
       "      <td>31.989880</td>\n",
       "    </tr>\n",
       "    <tr>\n",
       "      <th>member</th>\n",
       "      <td>13.374976</td>\n",
       "    </tr>\n",
       "  </tbody>\n",
       "</table>\n",
       "</div>"
      ],
      "text/plain": [
       "               ride_length\n",
       "member_casual             \n",
       "casual           31.989880\n",
       "member           13.374976"
      ]
     },
     "execution_count": 31,
     "metadata": {},
     "output_type": "execute_result"
    }
   ],
   "source": [
    "arl = tripdata.groupby('member_casual', as_index=True)[['ride_length']].mean()\n",
    "arl"
   ]
  },
  {
   "cell_type": "markdown",
   "id": "dfdc2acd",
   "metadata": {},
   "source": [
    "### The Most Popular Rideable Type"
   ]
  },
  {
   "cell_type": "code",
   "execution_count": 33,
   "id": "608e6519",
   "metadata": {},
   "outputs": [
    {
     "data": {
      "text/html": [
       "<div>\n",
       "<style scoped>\n",
       "    .dataframe tbody tr th:only-of-type {\n",
       "        vertical-align: middle;\n",
       "    }\n",
       "\n",
       "    .dataframe tbody tr th {\n",
       "        vertical-align: top;\n",
       "    }\n",
       "\n",
       "    .dataframe thead tr th {\n",
       "        text-align: left;\n",
       "    }\n",
       "\n",
       "    .dataframe thead tr:last-of-type th {\n",
       "        text-align: right;\n",
       "    }\n",
       "</style>\n",
       "<table border=\"1\" class=\"dataframe\">\n",
       "  <thead>\n",
       "    <tr>\n",
       "      <th></th>\n",
       "      <th></th>\n",
       "      <th>count</th>\n",
       "    </tr>\n",
       "    <tr>\n",
       "      <th></th>\n",
       "      <th></th>\n",
       "      <th>ride_id</th>\n",
       "    </tr>\n",
       "    <tr>\n",
       "      <th>rideable_type</th>\n",
       "      <th>member_casual</th>\n",
       "      <th></th>\n",
       "    </tr>\n",
       "  </thead>\n",
       "  <tbody>\n",
       "    <tr>\n",
       "      <th rowspan=\"2\" valign=\"top\">classic_bike</th>\n",
       "      <th>casual</th>\n",
       "      <td>1132186</td>\n",
       "    </tr>\n",
       "    <tr>\n",
       "      <th>member</th>\n",
       "      <td>1749427</td>\n",
       "    </tr>\n",
       "    <tr>\n",
       "      <th rowspan=\"2\" valign=\"top\">docked_bike</th>\n",
       "      <th>casual</th>\n",
       "      <td>279266</td>\n",
       "    </tr>\n",
       "    <tr>\n",
       "      <th>member</th>\n",
       "      <td>1</td>\n",
       "    </tr>\n",
       "    <tr>\n",
       "      <th rowspan=\"2\" valign=\"top\">electric_bike</th>\n",
       "      <th>casual</th>\n",
       "      <td>842066</td>\n",
       "    </tr>\n",
       "    <tr>\n",
       "      <th>member</th>\n",
       "      <td>955489</td>\n",
       "    </tr>\n",
       "    <tr>\n",
       "      <th>total count</th>\n",
       "      <th></th>\n",
       "      <td>4958435</td>\n",
       "    </tr>\n",
       "  </tbody>\n",
       "</table>\n",
       "</div>"
      ],
      "text/plain": [
       "                               count\n",
       "                             ride_id\n",
       "rideable_type member_casual         \n",
       "classic_bike  casual         1132186\n",
       "              member         1749427\n",
       "docked_bike   casual          279266\n",
       "              member               1\n",
       "electric_bike casual          842066\n",
       "              member          955489\n",
       "total count                  4958435"
      ]
     },
     "execution_count": 33,
     "metadata": {},
     "output_type": "execute_result"
    }
   ],
   "source": [
    "rt_pivot = pd.pivot_table(tripdata, index=['rideable_type', 'member_casual'], values='ride_id', aggfunc=['count'],\n",
    "                         margins=True, margins_name='total count')\n",
    "rt_pivot"
   ]
  },
  {
   "cell_type": "markdown",
   "id": "82fccbb1",
   "metadata": {},
   "source": [
    "### The Most Popular Day of the Week for Bike Rentals\n"
   ]
  },
  {
   "cell_type": "code",
   "execution_count": 34,
   "id": "395c719c",
   "metadata": {},
   "outputs": [
    {
     "data": {
      "text/html": [
       "<div>\n",
       "<style scoped>\n",
       "    .dataframe tbody tr th:only-of-type {\n",
       "        vertical-align: middle;\n",
       "    }\n",
       "\n",
       "    .dataframe tbody tr th {\n",
       "        vertical-align: top;\n",
       "    }\n",
       "\n",
       "    .dataframe thead tr th {\n",
       "        text-align: left;\n",
       "    }\n",
       "\n",
       "    .dataframe thead tr:last-of-type th {\n",
       "        text-align: right;\n",
       "    }\n",
       "</style>\n",
       "<table border=\"1\" class=\"dataframe\">\n",
       "  <thead>\n",
       "    <tr>\n",
       "      <th></th>\n",
       "      <th></th>\n",
       "      <th>count</th>\n",
       "    </tr>\n",
       "    <tr>\n",
       "      <th></th>\n",
       "      <th></th>\n",
       "      <th>ride_id</th>\n",
       "    </tr>\n",
       "    <tr>\n",
       "      <th>dayofweek</th>\n",
       "      <th>member_casual</th>\n",
       "      <th></th>\n",
       "    </tr>\n",
       "  </thead>\n",
       "  <tbody>\n",
       "    <tr>\n",
       "      <th rowspan=\"2\" valign=\"top\">Friday</th>\n",
       "      <th>casual</th>\n",
       "      <td>324783</td>\n",
       "    </tr>\n",
       "    <tr>\n",
       "      <th>member</th>\n",
       "      <td>393383</td>\n",
       "    </tr>\n",
       "    <tr>\n",
       "      <th rowspan=\"2\" valign=\"top\">Monday</th>\n",
       "      <th>casual</th>\n",
       "      <td>254783</td>\n",
       "    </tr>\n",
       "    <tr>\n",
       "      <th>member</th>\n",
       "      <td>367107</td>\n",
       "    </tr>\n",
       "    <tr>\n",
       "      <th rowspan=\"2\" valign=\"top\">Saturday</th>\n",
       "      <th>casual</th>\n",
       "      <td>497111</td>\n",
       "    </tr>\n",
       "    <tr>\n",
       "      <th>member</th>\n",
       "      <td>381726</td>\n",
       "    </tr>\n",
       "    <tr>\n",
       "      <th rowspan=\"2\" valign=\"top\">Sunday</th>\n",
       "      <th>casual</th>\n",
       "      <td>428463</td>\n",
       "    </tr>\n",
       "    <tr>\n",
       "      <th>member</th>\n",
       "      <td>331783</td>\n",
       "    </tr>\n",
       "    <tr>\n",
       "      <th rowspan=\"2\" valign=\"top\">Thursday</th>\n",
       "      <th>casual</th>\n",
       "      <td>255309</td>\n",
       "    </tr>\n",
       "    <tr>\n",
       "      <th>member</th>\n",
       "      <td>398649</td>\n",
       "    </tr>\n",
       "    <tr>\n",
       "      <th rowspan=\"2\" valign=\"top\">Tuesday</th>\n",
       "      <th>casual</th>\n",
       "      <td>244402</td>\n",
       "    </tr>\n",
       "    <tr>\n",
       "      <th>member</th>\n",
       "      <td>410751</td>\n",
       "    </tr>\n",
       "    <tr>\n",
       "      <th rowspan=\"2\" valign=\"top\">Wednesday</th>\n",
       "      <th>casual</th>\n",
       "      <td>248667</td>\n",
       "    </tr>\n",
       "    <tr>\n",
       "      <th>member</th>\n",
       "      <td>421518</td>\n",
       "    </tr>\n",
       "    <tr>\n",
       "      <th>total count</th>\n",
       "      <th></th>\n",
       "      <td>4958435</td>\n",
       "    </tr>\n",
       "  </tbody>\n",
       "</table>\n",
       "</div>"
      ],
      "text/plain": [
       "                             count\n",
       "                           ride_id\n",
       "dayofweek   member_casual         \n",
       "Friday      casual          324783\n",
       "            member          393383\n",
       "Monday      casual          254783\n",
       "            member          367107\n",
       "Saturday    casual          497111\n",
       "            member          381726\n",
       "Sunday      casual          428463\n",
       "            member          331783\n",
       "Thursday    casual          255309\n",
       "            member          398649\n",
       "Tuesday     casual          244402\n",
       "            member          410751\n",
       "Wednesday   casual          248667\n",
       "            member          421518\n",
       "total count                4958435"
      ]
     },
     "execution_count": 34,
     "metadata": {},
     "output_type": "execute_result"
    }
   ],
   "source": [
    "pdw_pivot = pd.pivot_table(tripdata, index=['dayofweek', 'member_casual'], values='ride_id', aggfunc=['count'],\n",
    "                         margins=True, margins_name='total count')\n",
    "pdw_pivot"
   ]
  },
  {
   "cell_type": "markdown",
   "id": "bde317ff",
   "metadata": {},
   "source": [
    "### The Most Popular Month for Bike Rentals"
   ]
  },
  {
   "cell_type": "code",
   "execution_count": 35,
   "id": "d784305f",
   "metadata": {},
   "outputs": [
    {
     "data": {
      "text/html": [
       "<div>\n",
       "<style scoped>\n",
       "    .dataframe tbody tr th:only-of-type {\n",
       "        vertical-align: middle;\n",
       "    }\n",
       "\n",
       "    .dataframe tbody tr th {\n",
       "        vertical-align: top;\n",
       "    }\n",
       "\n",
       "    .dataframe thead tr th {\n",
       "        text-align: left;\n",
       "    }\n",
       "\n",
       "    .dataframe thead tr:last-of-type th {\n",
       "        text-align: right;\n",
       "    }\n",
       "</style>\n",
       "<table border=\"1\" class=\"dataframe\">\n",
       "  <thead>\n",
       "    <tr>\n",
       "      <th></th>\n",
       "      <th></th>\n",
       "      <th>count</th>\n",
       "    </tr>\n",
       "    <tr>\n",
       "      <th></th>\n",
       "      <th></th>\n",
       "      <th>ride_id</th>\n",
       "    </tr>\n",
       "    <tr>\n",
       "      <th>month</th>\n",
       "      <th>member_casual</th>\n",
       "      <th></th>\n",
       "    </tr>\n",
       "  </thead>\n",
       "  <tbody>\n",
       "    <tr>\n",
       "      <th rowspan=\"2\" valign=\"top\">April</th>\n",
       "      <th>casual</th>\n",
       "      <td>118424</td>\n",
       "    </tr>\n",
       "    <tr>\n",
       "      <th>member</th>\n",
       "      <td>174186</td>\n",
       "    </tr>\n",
       "    <tr>\n",
       "      <th rowspan=\"2\" valign=\"top\">August</th>\n",
       "      <th>casual</th>\n",
       "      <td>371068</td>\n",
       "    </tr>\n",
       "    <tr>\n",
       "      <th>member</th>\n",
       "      <td>353245</td>\n",
       "    </tr>\n",
       "    <tr>\n",
       "      <th rowspan=\"2\" valign=\"top\">December</th>\n",
       "      <th>casual</th>\n",
       "      <td>59819</td>\n",
       "    </tr>\n",
       "    <tr>\n",
       "      <th>member</th>\n",
       "      <td>151659</td>\n",
       "    </tr>\n",
       "    <tr>\n",
       "      <th rowspan=\"2\" valign=\"top\">February</th>\n",
       "      <th>casual</th>\n",
       "      <td>7915</td>\n",
       "    </tr>\n",
       "    <tr>\n",
       "      <th>member</th>\n",
       "      <td>30942</td>\n",
       "    </tr>\n",
       "    <tr>\n",
       "      <th rowspan=\"2\" valign=\"top\">January</th>\n",
       "      <th>casual</th>\n",
       "      <td>14821</td>\n",
       "    </tr>\n",
       "    <tr>\n",
       "      <th>member</th>\n",
       "      <td>64460</td>\n",
       "    </tr>\n",
       "    <tr>\n",
       "      <th rowspan=\"2\" valign=\"top\">July</th>\n",
       "      <th>casual</th>\n",
       "      <td>400496</td>\n",
       "    </tr>\n",
       "    <tr>\n",
       "      <th>member</th>\n",
       "      <td>340957</td>\n",
       "    </tr>\n",
       "    <tr>\n",
       "      <th rowspan=\"2\" valign=\"top\">June</th>\n",
       "      <th>casual</th>\n",
       "      <td>332318</td>\n",
       "    </tr>\n",
       "    <tr>\n",
       "      <th>member</th>\n",
       "      <td>320933</td>\n",
       "    </tr>\n",
       "    <tr>\n",
       "      <th rowspan=\"2\" valign=\"top\">March</th>\n",
       "      <th>casual</th>\n",
       "      <td>71768</td>\n",
       "    </tr>\n",
       "    <tr>\n",
       "      <th>member</th>\n",
       "      <td>123006</td>\n",
       "    </tr>\n",
       "    <tr>\n",
       "      <th rowspan=\"2\" valign=\"top\">May</th>\n",
       "      <th>casual</th>\n",
       "      <td>227405</td>\n",
       "    </tr>\n",
       "    <tr>\n",
       "      <th>member</th>\n",
       "      <td>242174</td>\n",
       "    </tr>\n",
       "    <tr>\n",
       "      <th rowspan=\"2\" valign=\"top\">November</th>\n",
       "      <th>casual</th>\n",
       "      <td>93438</td>\n",
       "    </tr>\n",
       "    <tr>\n",
       "      <th>member</th>\n",
       "      <td>219485</td>\n",
       "    </tr>\n",
       "    <tr>\n",
       "      <th rowspan=\"2\" valign=\"top\">October</th>\n",
       "      <th>casual</th>\n",
       "      <td>228909</td>\n",
       "    </tr>\n",
       "    <tr>\n",
       "      <th>member</th>\n",
       "      <td>333101</td>\n",
       "    </tr>\n",
       "    <tr>\n",
       "      <th rowspan=\"2\" valign=\"top\">September</th>\n",
       "      <th>casual</th>\n",
       "      <td>327137</td>\n",
       "    </tr>\n",
       "    <tr>\n",
       "      <th>member</th>\n",
       "      <td>350769</td>\n",
       "    </tr>\n",
       "    <tr>\n",
       "      <th>total count</th>\n",
       "      <th></th>\n",
       "      <td>4958435</td>\n",
       "    </tr>\n",
       "  </tbody>\n",
       "</table>\n",
       "</div>"
      ],
      "text/plain": [
       "                             count\n",
       "                           ride_id\n",
       "month       member_casual         \n",
       "April       casual          118424\n",
       "            member          174186\n",
       "August      casual          371068\n",
       "            member          353245\n",
       "December    casual           59819\n",
       "            member          151659\n",
       "February    casual            7915\n",
       "            member           30942\n",
       "January     casual           14821\n",
       "            member           64460\n",
       "July        casual          400496\n",
       "            member          340957\n",
       "June        casual          332318\n",
       "            member          320933\n",
       "March       casual           71768\n",
       "            member          123006\n",
       "May         casual          227405\n",
       "            member          242174\n",
       "November    casual           93438\n",
       "            member          219485\n",
       "October     casual          228909\n",
       "            member          333101\n",
       "September   casual          327137\n",
       "            member          350769\n",
       "total count                4958435"
      ]
     },
     "execution_count": 35,
     "metadata": {},
     "output_type": "execute_result"
    }
   ],
   "source": [
    "pm_pivot = pd.pivot_table(tripdata, index=['month', 'member_casual'], values='ride_id', aggfunc=['count'],\n",
    "                         margins=True, margins_name='total count')\n",
    "pm_pivot"
   ]
  },
  {
   "cell_type": "markdown",
   "id": "708e238f",
   "metadata": {},
   "source": [
    "### Average Ride Length by Day of the Week\n",
    "+ Mari kita lihat berapa lama perjalanan berlangsung – dalam hitungan menit – berdasarkan hari dalam seminggu."
   ]
  },
  {
   "cell_type": "code",
   "execution_count": 36,
   "id": "eac72646",
   "metadata": {},
   "outputs": [
    {
     "data": {
      "text/html": [
       "<div>\n",
       "<style scoped>\n",
       "    .dataframe tbody tr th:only-of-type {\n",
       "        vertical-align: middle;\n",
       "    }\n",
       "\n",
       "    .dataframe tbody tr th {\n",
       "        vertical-align: top;\n",
       "    }\n",
       "\n",
       "    .dataframe thead tr th {\n",
       "        text-align: left;\n",
       "    }\n",
       "\n",
       "    .dataframe thead tr:last-of-type th {\n",
       "        text-align: right;\n",
       "    }\n",
       "</style>\n",
       "<table border=\"1\" class=\"dataframe\">\n",
       "  <thead>\n",
       "    <tr>\n",
       "      <th></th>\n",
       "      <th></th>\n",
       "      <th>mean</th>\n",
       "    </tr>\n",
       "    <tr>\n",
       "      <th></th>\n",
       "      <th></th>\n",
       "      <th>ride_length</th>\n",
       "    </tr>\n",
       "    <tr>\n",
       "      <th>dayofweek</th>\n",
       "      <th>member_casual</th>\n",
       "      <th></th>\n",
       "    </tr>\n",
       "  </thead>\n",
       "  <tbody>\n",
       "    <tr>\n",
       "      <th rowspan=\"2\" valign=\"top\">Friday</th>\n",
       "      <th>casual</th>\n",
       "      <td>30.568361</td>\n",
       "    </tr>\n",
       "    <tr>\n",
       "      <th>member</th>\n",
       "      <td>13.062303</td>\n",
       "    </tr>\n",
       "    <tr>\n",
       "      <th rowspan=\"2\" valign=\"top\">Monday</th>\n",
       "      <th>casual</th>\n",
       "      <td>31.755667</td>\n",
       "    </tr>\n",
       "    <tr>\n",
       "      <th>member</th>\n",
       "      <td>12.962297</td>\n",
       "    </tr>\n",
       "    <tr>\n",
       "      <th rowspan=\"2\" valign=\"top\">Saturday</th>\n",
       "      <th>casual</th>\n",
       "      <td>34.725405</td>\n",
       "    </tr>\n",
       "    <tr>\n",
       "      <th>member</th>\n",
       "      <td>15.064986</td>\n",
       "    </tr>\n",
       "    <tr>\n",
       "      <th rowspan=\"2\" valign=\"top\">Sunday</th>\n",
       "      <th>casual</th>\n",
       "      <td>37.649372</td>\n",
       "    </tr>\n",
       "    <tr>\n",
       "      <th>member</th>\n",
       "      <td>15.444345</td>\n",
       "    </tr>\n",
       "    <tr>\n",
       "      <th rowspan=\"2\" valign=\"top\">Thursday</th>\n",
       "      <th>casual</th>\n",
       "      <td>27.646961</td>\n",
       "    </tr>\n",
       "    <tr>\n",
       "      <th>member</th>\n",
       "      <td>12.503011</td>\n",
       "    </tr>\n",
       "    <tr>\n",
       "      <th rowspan=\"2\" valign=\"top\">Tuesday</th>\n",
       "      <th>casual</th>\n",
       "      <td>27.874702</td>\n",
       "    </tr>\n",
       "    <tr>\n",
       "      <th>member</th>\n",
       "      <td>12.500366</td>\n",
       "    </tr>\n",
       "    <tr>\n",
       "      <th rowspan=\"2\" valign=\"top\">Wednesday</th>\n",
       "      <th>casual</th>\n",
       "      <td>27.369884</td>\n",
       "    </tr>\n",
       "    <tr>\n",
       "      <th>member</th>\n",
       "      <td>12.543813</td>\n",
       "    </tr>\n",
       "    <tr>\n",
       "      <th>total ride_length mean</th>\n",
       "      <th></th>\n",
       "      <td>21.835109</td>\n",
       "    </tr>\n",
       "  </tbody>\n",
       "</table>\n",
       "</div>"
      ],
      "text/plain": [
       "                                            mean\n",
       "                                     ride_length\n",
       "dayofweek              member_casual            \n",
       "Friday                 casual          30.568361\n",
       "                       member          13.062303\n",
       "Monday                 casual          31.755667\n",
       "                       member          12.962297\n",
       "Saturday               casual          34.725405\n",
       "                       member          15.064986\n",
       "Sunday                 casual          37.649372\n",
       "                       member          15.444345\n",
       "Thursday               casual          27.646961\n",
       "                       member          12.503011\n",
       "Tuesday                casual          27.874702\n",
       "                       member          12.500366\n",
       "Wednesday              casual          27.369884\n",
       "                       member          12.543813\n",
       "total ride_length mean                 21.835109"
      ]
     },
     "execution_count": 36,
     "metadata": {},
     "output_type": "execute_result"
    }
   ],
   "source": [
    "rdw_pivot = pd.pivot_table(tripdata, index=['dayofweek', 'member_casual'], values='ride_length', aggfunc=['mean'],\n",
    "                         margins=True, margins_name='total ride_length mean')\n",
    "rdw_pivot"
   ]
  },
  {
   "cell_type": "markdown",
   "id": "8cf8e1c1",
   "metadata": {},
   "source": [
    "### Average Ride Length by Month\n",
    "+ Mari kita periksa juga panjang perjalanan rata-rata – dalam hitungan menit – per bulan."
   ]
  },
  {
   "cell_type": "code",
   "execution_count": 37,
   "id": "db3d7a8d",
   "metadata": {},
   "outputs": [
    {
     "data": {
      "text/html": [
       "<div>\n",
       "<style scoped>\n",
       "    .dataframe tbody tr th:only-of-type {\n",
       "        vertical-align: middle;\n",
       "    }\n",
       "\n",
       "    .dataframe tbody tr th {\n",
       "        vertical-align: top;\n",
       "    }\n",
       "\n",
       "    .dataframe thead tr th {\n",
       "        text-align: left;\n",
       "    }\n",
       "\n",
       "    .dataframe thead tr:last-of-type th {\n",
       "        text-align: right;\n",
       "    }\n",
       "</style>\n",
       "<table border=\"1\" class=\"dataframe\">\n",
       "  <thead>\n",
       "    <tr>\n",
       "      <th></th>\n",
       "      <th></th>\n",
       "      <th>mean</th>\n",
       "    </tr>\n",
       "    <tr>\n",
       "      <th></th>\n",
       "      <th></th>\n",
       "      <th>ride_length</th>\n",
       "    </tr>\n",
       "    <tr>\n",
       "      <th>month</th>\n",
       "      <th>member_casual</th>\n",
       "      <th></th>\n",
       "    </tr>\n",
       "  </thead>\n",
       "  <tbody>\n",
       "    <tr>\n",
       "      <th rowspan=\"2\" valign=\"top\">April</th>\n",
       "      <th>casual</th>\n",
       "      <td>38.223029</td>\n",
       "    </tr>\n",
       "    <tr>\n",
       "      <th>member</th>\n",
       "      <td>14.400491</td>\n",
       "    </tr>\n",
       "    <tr>\n",
       "      <th rowspan=\"2\" valign=\"top\">August</th>\n",
       "      <th>casual</th>\n",
       "      <td>28.728362</td>\n",
       "    </tr>\n",
       "    <tr>\n",
       "      <th>member</th>\n",
       "      <td>13.827661</td>\n",
       "    </tr>\n",
       "    <tr>\n",
       "      <th rowspan=\"2\" valign=\"top\">December</th>\n",
       "      <th>casual</th>\n",
       "      <td>22.907120</td>\n",
       "    </tr>\n",
       "    <tr>\n",
       "      <th>member</th>\n",
       "      <td>10.667999</td>\n",
       "    </tr>\n",
       "    <tr>\n",
       "      <th rowspan=\"2\" valign=\"top\">February</th>\n",
       "      <th>casual</th>\n",
       "      <td>52.732028</td>\n",
       "    </tr>\n",
       "    <tr>\n",
       "      <th>member</th>\n",
       "      <td>18.124620</td>\n",
       "    </tr>\n",
       "    <tr>\n",
       "      <th rowspan=\"2\" valign=\"top\">January</th>\n",
       "      <th>casual</th>\n",
       "      <td>25.559746</td>\n",
       "    </tr>\n",
       "    <tr>\n",
       "      <th>member</th>\n",
       "      <td>12.458594</td>\n",
       "    </tr>\n",
       "    <tr>\n",
       "      <th rowspan=\"2\" valign=\"top\">July</th>\n",
       "      <th>casual</th>\n",
       "      <td>32.830850</td>\n",
       "    </tr>\n",
       "    <tr>\n",
       "      <th>member</th>\n",
       "      <td>14.007737</td>\n",
       "    </tr>\n",
       "    <tr>\n",
       "      <th rowspan=\"2\" valign=\"top\">June</th>\n",
       "      <th>casual</th>\n",
       "      <td>37.348154</td>\n",
       "    </tr>\n",
       "    <tr>\n",
       "      <th>member</th>\n",
       "      <td>14.460467</td>\n",
       "    </tr>\n",
       "    <tr>\n",
       "      <th rowspan=\"2\" valign=\"top\">March</th>\n",
       "      <th>casual</th>\n",
       "      <td>38.086459</td>\n",
       "    </tr>\n",
       "    <tr>\n",
       "      <th>member</th>\n",
       "      <td>13.687056</td>\n",
       "    </tr>\n",
       "    <tr>\n",
       "      <th rowspan=\"2\" valign=\"top\">May</th>\n",
       "      <th>casual</th>\n",
       "      <td>37.765049</td>\n",
       "    </tr>\n",
       "    <tr>\n",
       "      <th>member</th>\n",
       "      <td>14.407996</td>\n",
       "    </tr>\n",
       "    <tr>\n",
       "      <th rowspan=\"2\" valign=\"top\">November</th>\n",
       "      <th>casual</th>\n",
       "      <td>23.265213</td>\n",
       "    </tr>\n",
       "    <tr>\n",
       "      <th>member</th>\n",
       "      <td>11.008283</td>\n",
       "    </tr>\n",
       "    <tr>\n",
       "      <th rowspan=\"2\" valign=\"top\">October</th>\n",
       "      <th>casual</th>\n",
       "      <td>28.962116</td>\n",
       "    </tr>\n",
       "    <tr>\n",
       "      <th>member</th>\n",
       "      <td>12.235925</td>\n",
       "    </tr>\n",
       "    <tr>\n",
       "      <th rowspan=\"2\" valign=\"top\">September</th>\n",
       "      <th>casual</th>\n",
       "      <td>27.669178</td>\n",
       "    </tr>\n",
       "    <tr>\n",
       "      <th>member</th>\n",
       "      <td>13.461372</td>\n",
       "    </tr>\n",
       "    <tr>\n",
       "      <th>total ride_length mean</th>\n",
       "      <th></th>\n",
       "      <td>21.835109</td>\n",
       "    </tr>\n",
       "  </tbody>\n",
       "</table>\n",
       "</div>"
      ],
      "text/plain": [
       "                                            mean\n",
       "                                     ride_length\n",
       "month                  member_casual            \n",
       "April                  casual          38.223029\n",
       "                       member          14.400491\n",
       "August                 casual          28.728362\n",
       "                       member          13.827661\n",
       "December               casual          22.907120\n",
       "                       member          10.667999\n",
       "February               casual          52.732028\n",
       "                       member          18.124620\n",
       "January                casual          25.559746\n",
       "                       member          12.458594\n",
       "July                   casual          32.830850\n",
       "                       member          14.007737\n",
       "June                   casual          37.348154\n",
       "                       member          14.460467\n",
       "March                  casual          38.086459\n",
       "                       member          13.687056\n",
       "May                    casual          37.765049\n",
       "                       member          14.407996\n",
       "November               casual          23.265213\n",
       "                       member          11.008283\n",
       "October                casual          28.962116\n",
       "                       member          12.235925\n",
       "September              casual          27.669178\n",
       "                       member          13.461372\n",
       "total ride_length mean                 21.835109"
      ]
     },
     "execution_count": 37,
     "metadata": {},
     "output_type": "execute_result"
    }
   ],
   "source": [
    "rlm_pivot = pd.pivot_table(tripdata, index=['month', 'member_casual'], values='ride_length', aggfunc=['mean'],\n",
    "                         margins=True, margins_name='total ride_length mean')\n",
    "rlm_pivot"
   ]
  },
  {
   "cell_type": "markdown",
   "id": "8f41283d",
   "metadata": {},
   "source": [
    "### Total Number of Rides per Hour"
   ]
  },
  {
   "cell_type": "code",
   "execution_count": 38,
   "id": "a96044fa",
   "metadata": {},
   "outputs": [
    {
     "data": {
      "text/html": [
       "<div>\n",
       "<style scoped>\n",
       "    .dataframe tbody tr th:only-of-type {\n",
       "        vertical-align: middle;\n",
       "    }\n",
       "\n",
       "    .dataframe tbody tr th {\n",
       "        vertical-align: top;\n",
       "    }\n",
       "\n",
       "    .dataframe thead tr th {\n",
       "        text-align: left;\n",
       "    }\n",
       "\n",
       "    .dataframe thead tr:last-of-type th {\n",
       "        text-align: right;\n",
       "    }\n",
       "</style>\n",
       "<table border=\"1\" class=\"dataframe\">\n",
       "  <thead>\n",
       "    <tr>\n",
       "      <th></th>\n",
       "      <th></th>\n",
       "      <th>count</th>\n",
       "    </tr>\n",
       "    <tr>\n",
       "      <th></th>\n",
       "      <th></th>\n",
       "      <th>ride_id</th>\n",
       "    </tr>\n",
       "    <tr>\n",
       "      <th>hour</th>\n",
       "      <th>member_casual</th>\n",
       "      <th></th>\n",
       "    </tr>\n",
       "  </thead>\n",
       "  <tbody>\n",
       "    <tr>\n",
       "      <th rowspan=\"2\" valign=\"top\">0</th>\n",
       "      <th>casual</th>\n",
       "      <td>48024</td>\n",
       "    </tr>\n",
       "    <tr>\n",
       "      <th>member</th>\n",
       "      <td>29296</td>\n",
       "    </tr>\n",
       "    <tr>\n",
       "      <th rowspan=\"2\" valign=\"top\">1</th>\n",
       "      <th>casual</th>\n",
       "      <td>34935</td>\n",
       "    </tr>\n",
       "    <tr>\n",
       "      <th>member</th>\n",
       "      <td>19330</td>\n",
       "    </tr>\n",
       "    <tr>\n",
       "      <th rowspan=\"2\" valign=\"top\">2</th>\n",
       "      <th>casual</th>\n",
       "      <td>22825</td>\n",
       "    </tr>\n",
       "    <tr>\n",
       "      <th>member</th>\n",
       "      <td>11018</td>\n",
       "    </tr>\n",
       "    <tr>\n",
       "      <th rowspan=\"2\" valign=\"top\">3</th>\n",
       "      <th>casual</th>\n",
       "      <td>12599</td>\n",
       "    </tr>\n",
       "    <tr>\n",
       "      <th>member</th>\n",
       "      <td>6346</td>\n",
       "    </tr>\n",
       "    <tr>\n",
       "      <th rowspan=\"2\" valign=\"top\">4</th>\n",
       "      <th>casual</th>\n",
       "      <td>8804</td>\n",
       "    </tr>\n",
       "    <tr>\n",
       "      <th>member</th>\n",
       "      <td>7205</td>\n",
       "    </tr>\n",
       "    <tr>\n",
       "      <th rowspan=\"2\" valign=\"top\">5</th>\n",
       "      <th>casual</th>\n",
       "      <td>11195</td>\n",
       "    </tr>\n",
       "    <tr>\n",
       "      <th>member</th>\n",
       "      <td>26497</td>\n",
       "    </tr>\n",
       "    <tr>\n",
       "      <th rowspan=\"2\" valign=\"top\">6</th>\n",
       "      <th>casual</th>\n",
       "      <td>23034</td>\n",
       "    </tr>\n",
       "    <tr>\n",
       "      <th>member</th>\n",
       "      <td>72114</td>\n",
       "    </tr>\n",
       "    <tr>\n",
       "      <th rowspan=\"2\" valign=\"top\">7</th>\n",
       "      <th>casual</th>\n",
       "      <td>41701</td>\n",
       "    </tr>\n",
       "    <tr>\n",
       "      <th>member</th>\n",
       "      <td>132074</td>\n",
       "    </tr>\n",
       "    <tr>\n",
       "      <th rowspan=\"2\" valign=\"top\">8</th>\n",
       "      <th>casual</th>\n",
       "      <td>56850</td>\n",
       "    </tr>\n",
       "    <tr>\n",
       "      <th>member</th>\n",
       "      <td>152810</td>\n",
       "    </tr>\n",
       "    <tr>\n",
       "      <th rowspan=\"2\" valign=\"top\">9</th>\n",
       "      <th>casual</th>\n",
       "      <td>67868</td>\n",
       "    </tr>\n",
       "    <tr>\n",
       "      <th>member</th>\n",
       "      <td>115483</td>\n",
       "    </tr>\n",
       "    <tr>\n",
       "      <th rowspan=\"2\" valign=\"top\">10</th>\n",
       "      <th>casual</th>\n",
       "      <td>93266</td>\n",
       "    </tr>\n",
       "    <tr>\n",
       "      <th>member</th>\n",
       "      <td>113901</td>\n",
       "    </tr>\n",
       "    <tr>\n",
       "      <th rowspan=\"2\" valign=\"top\">11</th>\n",
       "      <th>casual</th>\n",
       "      <td>121111</td>\n",
       "    </tr>\n",
       "    <tr>\n",
       "      <th>member</th>\n",
       "      <td>136940</td>\n",
       "    </tr>\n",
       "    <tr>\n",
       "      <th rowspan=\"2\" valign=\"top\">12</th>\n",
       "      <th>casual</th>\n",
       "      <td>144306</td>\n",
       "    </tr>\n",
       "    <tr>\n",
       "      <th>member</th>\n",
       "      <td>159257</td>\n",
       "    </tr>\n",
       "    <tr>\n",
       "      <th rowspan=\"2\" valign=\"top\">13</th>\n",
       "      <th>casual</th>\n",
       "      <td>154112</td>\n",
       "    </tr>\n",
       "    <tr>\n",
       "      <th>member</th>\n",
       "      <td>156692</td>\n",
       "    </tr>\n",
       "    <tr>\n",
       "      <th rowspan=\"2\" valign=\"top\">14</th>\n",
       "      <th>casual</th>\n",
       "      <td>158888</td>\n",
       "    </tr>\n",
       "    <tr>\n",
       "      <th>member</th>\n",
       "      <td>153514</td>\n",
       "    </tr>\n",
       "    <tr>\n",
       "      <th rowspan=\"2\" valign=\"top\">15</th>\n",
       "      <th>casual</th>\n",
       "      <td>167747</td>\n",
       "    </tr>\n",
       "    <tr>\n",
       "      <th>member</th>\n",
       "      <td>176734</td>\n",
       "    </tr>\n",
       "    <tr>\n",
       "      <th rowspan=\"2\" valign=\"top\">16</th>\n",
       "      <th>casual</th>\n",
       "      <td>182643</td>\n",
       "    </tr>\n",
       "    <tr>\n",
       "      <th>member</th>\n",
       "      <td>226872</td>\n",
       "    </tr>\n",
       "    <tr>\n",
       "      <th rowspan=\"2\" valign=\"top\">17</th>\n",
       "      <th>casual</th>\n",
       "      <td>210913</td>\n",
       "    </tr>\n",
       "    <tr>\n",
       "      <th>member</th>\n",
       "      <td>282788</td>\n",
       "    </tr>\n",
       "    <tr>\n",
       "      <th rowspan=\"2\" valign=\"top\">18</th>\n",
       "      <th>casual</th>\n",
       "      <td>190890</td>\n",
       "    </tr>\n",
       "    <tr>\n",
       "      <th>member</th>\n",
       "      <td>239820</td>\n",
       "    </tr>\n",
       "    <tr>\n",
       "      <th rowspan=\"2\" valign=\"top\">19</th>\n",
       "      <th>casual</th>\n",
       "      <td>148432</td>\n",
       "    </tr>\n",
       "    <tr>\n",
       "      <th>member</th>\n",
       "      <td>172083</td>\n",
       "    </tr>\n",
       "    <tr>\n",
       "      <th rowspan=\"2\" valign=\"top\">20</th>\n",
       "      <th>casual</th>\n",
       "      <td>109047</td>\n",
       "    </tr>\n",
       "    <tr>\n",
       "      <th>member</th>\n",
       "      <td>116407</td>\n",
       "    </tr>\n",
       "    <tr>\n",
       "      <th rowspan=\"2\" valign=\"top\">21</th>\n",
       "      <th>casual</th>\n",
       "      <td>92623</td>\n",
       "    </tr>\n",
       "    <tr>\n",
       "      <th>member</th>\n",
       "      <td>86114</td>\n",
       "    </tr>\n",
       "    <tr>\n",
       "      <th rowspan=\"2\" valign=\"top\">22</th>\n",
       "      <th>casual</th>\n",
       "      <td>85659</td>\n",
       "    </tr>\n",
       "    <tr>\n",
       "      <th>member</th>\n",
       "      <td>65928</td>\n",
       "    </tr>\n",
       "    <tr>\n",
       "      <th rowspan=\"2\" valign=\"top\">23</th>\n",
       "      <th>casual</th>\n",
       "      <td>66046</td>\n",
       "    </tr>\n",
       "    <tr>\n",
       "      <th>member</th>\n",
       "      <td>45694</td>\n",
       "    </tr>\n",
       "    <tr>\n",
       "      <th>total ride_id count</th>\n",
       "      <th></th>\n",
       "      <td>4958435</td>\n",
       "    </tr>\n",
       "  </tbody>\n",
       "</table>\n",
       "</div>"
      ],
      "text/plain": [
       "                                     count\n",
       "                                   ride_id\n",
       "hour                member_casual         \n",
       "0                   casual           48024\n",
       "                    member           29296\n",
       "1                   casual           34935\n",
       "                    member           19330\n",
       "2                   casual           22825\n",
       "                    member           11018\n",
       "3                   casual           12599\n",
       "                    member            6346\n",
       "4                   casual            8804\n",
       "                    member            7205\n",
       "5                   casual           11195\n",
       "                    member           26497\n",
       "6                   casual           23034\n",
       "                    member           72114\n",
       "7                   casual           41701\n",
       "                    member          132074\n",
       "8                   casual           56850\n",
       "                    member          152810\n",
       "9                   casual           67868\n",
       "                    member          115483\n",
       "10                  casual           93266\n",
       "                    member          113901\n",
       "11                  casual          121111\n",
       "                    member          136940\n",
       "12                  casual          144306\n",
       "                    member          159257\n",
       "13                  casual          154112\n",
       "                    member          156692\n",
       "14                  casual          158888\n",
       "                    member          153514\n",
       "15                  casual          167747\n",
       "                    member          176734\n",
       "16                  casual          182643\n",
       "                    member          226872\n",
       "17                  casual          210913\n",
       "                    member          282788\n",
       "18                  casual          190890\n",
       "                    member          239820\n",
       "19                  casual          148432\n",
       "                    member          172083\n",
       "20                  casual          109047\n",
       "                    member          116407\n",
       "21                  casual           92623\n",
       "                    member           86114\n",
       "22                  casual           85659\n",
       "                    member           65928\n",
       "23                  casual           66046\n",
       "                    member           45694\n",
       "total ride_id count                4958435"
      ]
     },
     "execution_count": 38,
     "metadata": {},
     "output_type": "execute_result"
    }
   ],
   "source": [
    "tnr_pivot = pd.pivot_table(tripdata, index=['hour', 'member_casual'], values='ride_id', aggfunc=['count'],\n",
    "                         margins=True, margins_name='total ride_id count')\n",
    "tnr_pivot"
   ]
  },
  {
   "cell_type": "markdown",
   "id": "8607c9a1",
   "metadata": {},
   "source": [
    "## 5. SHARE\n",
    "+ Kami sekarang akan memvisualisasikan informasi yang telah kami temukan melalui analisis kami."
   ]
  },
  {
   "cell_type": "markdown",
   "id": "d787a340",
   "metadata": {},
   "source": [
    "### Visualizing Rides by User Type\n"
   ]
  },
  {
   "cell_type": "code",
   "execution_count": 39,
   "id": "5030c69d",
   "metadata": {},
   "outputs": [
    {
     "data": {
      "image/png": "[encoded data removed]",
      "text/plain": [
       "<Figure size 720x576 with 1 Axes>"
      ]
     },
     "metadata": {},
     "output_type": "display_data"
    }
   ],
   "source": [
    "df['ride_id'].plot.pie(x='member_casual', ylabel='Total Number of Rides', title='Rides by User Type', legend=True,\n",
    "                       autopct='%1.0f%%', fontsize='12', startangle=0, colors=['#246182', '#c76b16'], figsize=(10, 8))\n",
    "plt.show()"
   ]
  },
  {
   "cell_type": "markdown",
   "id": "2b46f07d",
   "metadata": {},
   "source": [
    "###### Bagan pai ini menunjukkan kepada kita bahwa members tahunan mewakili mayoritas pengguna sistem berbagi sepeda Cyclistic, yang merupakan 55% dari total pengguna."
   ]
  },
  {
   "cell_type": "markdown",
   "id": "187d2480",
   "metadata": {},
   "source": [
    "### Visualizing Average Ride Length"
   ]
  },
  {
   "cell_type": "code",
   "execution_count": 41,
   "id": "6ea308eb",
   "metadata": {},
   "outputs": [
    {
     "data": {
      "image/png": "[encoded data removed]",
      "text/plain": [
       "<Figure size 576x288 with 1 Axes>"
      ]
     },
     "metadata": {
      "needs_background": "light"
     },
     "output_type": "display_data"
    }
   ],
   "source": [
    "df1 = tripdata[['ride_length', 'member_casual']]\n",
    "df1 = df1.groupby(['member_casual'], as_index=False)[['ride_length']].mean()\n",
    "\n",
    "plt.figure(figsize = (8,4))\n",
    "sns.set_theme(style='white')\n",
    "sns.barplot(data=df1, x='member_casual', y='ride_length', palette='tab10').set_title('Average Ride Length')\n",
    "\n",
    "plt.xlabel('User Type')\n",
    "plt.ylabel('Average Ride Length (Minutes)')\n",
    "plt.show()"
   ]
  },
  {
   "cell_type": "markdown",
   "id": "a16b702d",
   "metadata": {},
   "source": [
    "+ Bagan kolom di atas menunjukkan kepada kita bahwa pengendara biasa memiliki rata-rata panjang perjalanan yang jauh lebih besar daripada members. Panjang perjalanan rata-rata adalah 34 menit untuk pengendara biasa dan 14 menit untuk anggota."
   ]
  },
  {
   "cell_type": "markdown",
   "id": "514a6362",
   "metadata": {},
   "source": [
    "#### Visualizing the Most Popular Rideable Type"
   ]
  },
  {
   "cell_type": "code",
   "execution_count": 42,
   "id": "b546bea1",
   "metadata": {},
   "outputs": [
    {
     "data": {
      "image/png": "[encoded data removed]",
      "text/plain": [
       "<Figure size 720x360 with 1 Axes>"
      ]
     },
     "metadata": {},
     "output_type": "display_data"
    }
   ],
   "source": [
    "df2 = tripdata[['rideable_type', 'member_casual', 'ride_id']]\n",
    "df2 = df2.groupby(['rideable_type', 'member_casual'], as_index=False)[['ride_id']].count()\n",
    "\n",
    "plt.figure(figsize = (10,5))\n",
    "sns.set_theme(style='white')\n",
    "plt.ticklabel_format(style='plain', axis='x')\n",
    "sns.barplot(x='ride_id', y='rideable_type', hue='member_casual', palette='tab10', data=df2).set_title('The Most Popular Rideable Type')\n",
    "\n",
    "plt.xlabel('Total Number of Rides')\n",
    "plt.ylabel('Rideable Type')\n",
    "plt.show()"
   ]
  },
  {
   "cell_type": "markdown",
   "id": "0e85de86",
   "metadata": {},
   "source": [
    "+ Menurut dataset kami, sepeda Cyclistic dibagi menjadi tiga kelompok: sepeda klasik, sepeda berlabuh, dan sepeda listrik. Terlihat jelas dalam visualisasi bahwa docked bike merupakan tipe rideable yang paling banyak disewa baik oleh casual rider maupun member. Ini dapat dijelaskan oleh pengguna yang menunjukkan preferensi untuk tipe berlabuh atau, lebih masuk akal, perusahaan telah berinvestasi lebih banyak dalam sistem berbasis berlabuh daripada dua opsi lainnya."
   ]
  },
  {
   "cell_type": "markdown",
   "id": "0a3e171e",
   "metadata": {},
   "source": [
    "### Visualizing the Most Popular Day of the Week for Bike Rentals"
   ]
  },
  {
   "cell_type": "code",
   "execution_count": 44,
   "id": "6468f73b",
   "metadata": {},
   "outputs": [
    {
     "data": {
      "image/png": "[encoded data removed]",
      "text/plain": [
       "<Figure size 864x432 with 1 Axes>"
      ]
     },
     "metadata": {},
     "output_type": "display_data"
    }
   ],
   "source": [
    "df3 = tripdata[['dayofweek', 'member_casual', 'ride_id']]\n",
    "df3 = df3.groupby(['dayofweek', 'member_casual'], as_index=False)[['ride_id']].count()\n",
    "\n",
    "plt.figure(figsize = (12,6))\n",
    "sns.set_theme(style='white')\n",
    "sns.barplot(data=df3, x='dayofweek', y='ride_id', hue='member_casual', palette='tab10',\n",
    "            order=['Monday', 'Tuesday', 'Wednesday', 'Thursday', 'Friday', 'Saturday',\n",
    "                   'Sunday']).set_title('The Most Popular Day of the Week for Bike Rentals')\n",
    "\n",
    "plt.xlabel('Days of the Week')\n",
    "plt.ylabel('Total Number of Rides')\n",
    "plt.show()"
   ]
  },
  {
   "cell_type": "markdown",
   "id": "cbb0f5bd",
   "metadata": {},
   "source": [
    "+ Dalam hal persewaan sepeda pada hari dalam seminggu, ada persamaan dan perbedaan antara pengendara biasa dan anggota. Misalnya, Sabtu adalah hari paling populer untuk kedua jenis pengguna, dan pada hari Minggu jumlah perjalanan mereka hampir sama. Di sisi lain, kedua kelompok berbeda jauh dalam hal persewaan sepeda sepanjang hari kerja: anggota secara konsisten menyewa sepeda setiap hari sementara pengendara biasa menunjukkan jumlah hari kerja yang lebih rendah dibandingkan dengan akhir pekan."
   ]
  },
  {
   "cell_type": "markdown",
   "id": "b9895fc4",
   "metadata": {},
   "source": [
    "### Visualizing the Most Popular Month of the Year for Bike Rentals"
   ]
  },
  {
   "cell_type": "code",
   "execution_count": 45,
   "id": "f79a29b6",
   "metadata": {},
   "outputs": [
    {
     "data": {
      "image/png": "[encoded data removed]",
      "text/plain": [
       "<Figure size 1008x432 with 1 Axes>"
      ]
     },
     "metadata": {},
     "output_type": "display_data"
    }
   ],
   "source": [
    "df4 = tripdata[['month', 'member_casual', 'ride_id']]\n",
    "df4 = df4.groupby(['month', 'member_casual'], as_index=False)[['ride_id']].count()\n",
    "\n",
    "plt.figure(figsize = (14,6))\n",
    "sns.set_theme(style='white')\n",
    "sns.barplot(data=df4, x='month', y='ride_id', hue='member_casual', palette='tab10', \n",
    "            order=['January', 'February', 'March', 'April', 'May', 'June', 'July', 'August', 'September', \n",
    "                   'October', 'November', 'December']).set_title('The Most Popular Month of the Year for Bike Rentals'),\n",
    "\n",
    "plt.xlabel('Months')\n",
    "plt.ylabel('Total Number of Rides')\n",
    "plt.show()"
   ]
  },
  {
   "cell_type": "markdown",
   "id": "90b2aa40",
   "metadata": {},
   "source": [
    "+ Memvisualisasikan jumlah perjalanan per bulan dapat membantu kita mengetahui apakah musim berperan dalam persewaan sepeda. Bagan di atas menunjukkan kepada kita bahwa jumlah persewaan meningkat selama bulan-bulan musim panas dan secara bertahap turun selama musim gugur dan musim dingin untuk kedua jenis pengguna tersebut. Perbedaan utamanya adalah anggota masih lebih konsisten dengan kebiasaan sewa mereka sepanjang tahun jika dibandingkan dengan pengendara biasa, yang jumlahnya turun secara signifikan selama bulan-bulan musim dingin."
   ]
  },
  {
   "cell_type": "markdown",
   "id": "e353cf42",
   "metadata": {},
   "source": [
    "### Visualizing Average Ride Length by Day of the Week"
   ]
  },
  {
   "cell_type": "code",
   "execution_count": 46,
   "id": "63f8177e",
   "metadata": {},
   "outputs": [
    {
     "data": {
      "image/png": "[encoded data removed]",
      "text/plain": [
       "<Figure size 1008x432 with 1 Axes>"
      ]
     },
     "metadata": {},
     "output_type": "display_data"
    }
   ],
   "source": [
    "cats = [ 'Monday', 'Tuesday', 'Wednesday', 'Thursday', 'Friday', 'Saturday', 'Sunday']\n",
    "cat_type = CategoricalDtype(categories=cats, ordered=True)\n",
    "tripdata['dayofweek'] = tripdata['dayofweek'].astype(cat_type)\n",
    "df5 = tripdata.copy()\n",
    "\n",
    "df5 = tripdata[['dayofweek', 'member_casual', 'ride_length']]\n",
    "df5 = df5.groupby(['dayofweek', 'member_casual'], as_index=False)[['ride_length']].mean()\n",
    "\n",
    "sns.set_theme(style='whitegrid')\n",
    "plt.figure(figsize = (14,6))\n",
    "sns.lineplot(data=df5, x='dayofweek', y='ride_length', hue='member_casual', style='member_casual', palette='tab10', \n",
    "             markers=True).set_title('Average Ride Length by Day of the Week')\n",
    "\n",
    "plt.xlabel('Days of the Week')\n",
    "plt.ylabel('Ride Length (Minutes)')\n",
    "plt.show()"
   ]
  },
  {
   "cell_type": "markdown",
   "id": "4b55afb6",
   "metadata": {},
   "source": [
    "+ Pada plot garis ini, terlihat jelas bahwa panjang perjalanan bertambah pada akhir pekan untuk kedua grup. Perbedaan antara pengendara biasa dan members dalam skenario ini terletak pada durasi perjalanan. Pengendara kasual cenderung menempuh perjalanan lebih lama, rata-rata 33 menit. Sebaliknya, anggota memberikan perjalanan yang jauh lebih pendek yang rata-rata berlangsung13 menit."
   ]
  },
  {
   "cell_type": "markdown",
   "id": "eca7f228",
   "metadata": {},
   "source": [
    "+ Mempertimbangkan kurangnya data pengguna pribadi untuk alasan privasi, sulit bagi kami untuk menentukan dengan tepat apa yang menyebabkan pengendara biasa dan anggota memiliki jarak tempuh yang berbeda. Kemungkinan members tinggal dekat dengan tempat kerja"
   ]
  },
  {
   "cell_type": "markdown",
   "id": "08264f4f",
   "metadata": {},
   "source": [
    "### Visualizing Average Ride Length by Month"
   ]
  },
  {
   "cell_type": "code",
   "execution_count": 48,
   "id": "b3982f8c",
   "metadata": {},
   "outputs": [
    {
     "data": {
      "image/png": "[encoded data removed]",
      "text/plain": [
       "<Figure size 1008x432 with 1 Axes>"
      ]
     },
     "metadata": {},
     "output_type": "display_data"
    }
   ],
   "source": [
    "cats = [ 'January', 'February', 'March', 'April', 'May', 'June', 'July', 'August', 'September', 'October', 'November', 'December']\n",
    "cat_type = CategoricalDtype(categories=cats, ordered=True)\n",
    "tripdata['month'] = tripdata['month'].astype(cat_type)\n",
    "df6 = tripdata.copy()\n",
    "\n",
    "df6 = tripdata[['month', 'member_casual', 'ride_length']]\n",
    "df6 = df6.groupby(['month', 'member_casual'], as_index=False)[['ride_length']].mean()\n",
    "\n",
    "sns.set_theme(style='whitegrid')\n",
    "plt.figure(figsize = (14,6))\n",
    "sns.lineplot(data=df6, x='month', y='ride_length', hue='member_casual', palette='tab10', \n",
    "             style='member_casual', markers=True).set_title('Average Ride Length by Month')\n",
    "\n",
    "plt.xlabel('Months')\n",
    "plt.ylabel('Ride Length (Minutes)')\n",
    "plt.show()"
   ]
  },
  {
   "cell_type": "markdown",
   "id": "1e88fd5c",
   "metadata": {},
   "source": [
    "+ Saat kami memvisualisasikan panjang perjalanan per bulan, kami dapat mempelajari lebih lanjut tentang kebiasaan berkendara pengguna sepanjang tahun. Perhatikan bahwa panjang perjalanan sangat berubah untuk pengendara biasa seiring berlalunya waktu. Untuk jenis pelanggan ini, panjang perjalanan mencapai puncaknya selama musim panas – mencapai rata-rata 55 menit di bulan Ferbruari – sebelum turun di bulan Maret. Sedangkan untuk anggota, lama perjalanan tidak berubah secara drastis selama beberapa bulan, memuncak pada bulan Ferbruari pula – rata-rata 18 menit – dan kemudian secara bertahap menurun selama sisa tahun tersebut."
   ]
  },
  {
   "cell_type": "markdown",
   "id": "f34fa07f",
   "metadata": {},
   "source": [
    "+ Mempertimbangkan perjalanan singkat, ini dapat menunjukkan bahwa anggota menggunakan sepeda Cyclistic untuk bepergian dan, mungkin, menjalankan tugas. Penurunan panjang perjalanan selama bulan-bulan musim dingin dapat menunjukkan bahwa para anggota memilih alat transportasi lain untuk bepergian selama musim tersebut. Sebaliknya, pengendara biasa dapat menggunakannya untuk rekreasi atau pariwisata – seperti yang disebutkan sebelumnya – terutama selama musim semi dan musim panas."
   ]
  },
  {
   "cell_type": "markdown",
   "id": "98fc5186",
   "metadata": {},
   "source": [
    "### Visualizing the Total Number of Rides per Hour"
   ]
  },
  {
   "cell_type": "code",
   "execution_count": 49,
   "id": "822de34c",
   "metadata": {},
   "outputs": [
    {
     "data": {
      "image/png": "[encoded data removed]",
      "text/plain": [
       "<Figure size 1008x432 with 1 Axes>"
      ]
     },
     "metadata": {},
     "output_type": "display_data"
    }
   ],
   "source": [
    "df7 = tripdata[['hour', 'member_casual', 'ride_id']]\n",
    "df7 = df7.groupby(['hour', 'member_casual'], as_index=False)[['ride_id']].count()\n",
    "\n",
    "sns.set_theme(style='whitegrid')\n",
    "plt.figure(figsize = (14,6))\n",
    "sns.lineplot(data=df7, x='hour', y='ride_id', hue='member_casual', palette='tab10',\n",
    "             style='member_casual', markers=True).set_title('Total Number of Rides per Hour')\n",
    "plt.xlabel('Hours')\n",
    "plt.ylabel('Number of Rides')\n",
    "plt.show()"
   ]
  },
  {
   "cell_type": "markdown",
   "id": "d1edcd45",
   "metadata": {},
   "source": [
    "+ Dengan melihat lebih dekat jumlah perjalanan per jam, kita dapat menemukan lebih banyak pola dalam kebiasaan penyewaan sepeda pelanggan. Jumlah persewaan sepeda oleh pengendara biasa mulai meningkat antara pukul 08.00 hingga 10.00 dan memuncak pada pukul 17.00. Sedangkan untuk anggota, angkanya mulai naik lebih awal – antara pukul 6 pagi dan 7 pagi – juga memuncak pada pukul 5 sore. Perhatikan bahwa jumlah perjalanan oleh anggota jauh lebih banyak daripada pengendara biasa. Hal ini mungkin terkait dengan fakta bahwa anggota mewakili mayoritas pengguna dan kemungkinan besar menggunakan layanan Cyclistic untuk perjalanan sehari-hari mereka."
   ]
  },
  {
   "cell_type": "markdown",
   "id": "98fb6e4f",
   "metadata": {},
   "source": [
    "## 6. ACT"
   ]
  },
  {
   "cell_type": "markdown",
   "id": "3ca9d221",
   "metadata": {},
   "source": [
    "### Pin Point"
   ]
  },
  {
   "cell_type": "markdown",
   "id": "85c49e1a",
   "metadata": {},
   "source": [
    "+ Anggota tahunan adalah mayoritas pengguna, yang merupakan 59% dari pelanggan Cyclistic.\n",
    "+ Pengendara kasual memiliki waktu perjalanan rata-rata 44 menit sementara anggota melakukan perjalanan lebih pendek, rata-rata 16 menit.\n",
    "+ Docked bike adalah jenis rideable paling populer untuk kedua grup, diikuti oleh sepeda klasik dan elektrik.\n",
    "+ Sabtu adalah hari paling populer dalam seminggu untuk persewaan sepeda.\n",
    "+ Pengendara kasual, serta anggota, melakukan perjalanan lebih lama di akhir pekan.\n",
    "+ Anggota secara konsisten menyewa sepeda setiap hari sementara pengendara biasa menyajikan jumlah hari kerja yang lebih rendah dibandingkan akhir pekan.\n",
    "+ Agustus adalah bulan paling populer dalam setahun untuk persewaan sepeda. Ada peningkatan yang jelas dalam jumlah selama musim panas untuk pengendara biasa dan anggota.\n",
    "+ Kedua tipe pengguna ini membutuhkan perjalanan yang lebih lama selama bulan-bulan musim semi dan musim panas.\n",
    "+ Jumlah persewaan sepeda oleh pengendara biasa mulai bertambah antara pukul 08.00 hingga 10.00 dan memuncak pada pukul 17.00. Sedangkan untuk anggota, angkanya mulai naik lebih awal – antara pukul 6 pagi dan 7 pagi – juga memuncak pada pukul 5 sore.\n",
    "+ Rata-rata lama perjalanan yang digabungkan dengan rata-rata waktu sewa harian menunjukkan bahwa anggota menggunakan sepeda untuk pergi bekerja/sekolah. Penurunan panjang perjalanan yang mencolok selama musim dingin dapat dikaitkan dengan perubahan alat transportasi untuk bepergian selama musim tersebut.\n",
    "+ Jumlah persewaan sepeda pengendara biasa pada akhir pekan dipasangkan dengan panjang perjalanan rata-rata selama musim panas menunjukkan bahwa mereka menggunakan tiket sekali jalan dan satu hari penuh untuk rekreasi atau pariwisata."
   ]
  },
  {
   "cell_type": "markdown",
   "id": "7cd7e248",
   "metadata": {},
   "source": [
    "#### Setelah melakukan analisis dengan dukungan visualisasi, menjadi jelas bagaimana pengendara sepeda biasa dan anggota menggunakan sepeda berbeda:"
   ]
  },
  {
   "cell_type": "markdown",
   "id": "e3a6f32f",
   "metadata": {},
   "source": [
    "+ Pengendara kasual cenderung menyewa lebih banyak sepeda di akhir pekan – terutama selama musim panas. Mempertimbangkan panjang perjalanan rata-rata, kombinasi faktor ini menunjukkan bahwa kelompok pelanggan ini menggunakan sepeda untuk bersantai. \n",
    "+ Members cenderung menggunakan sistem berbagi-sepeda Cyclistic setiap hari untuk perjalanan yang lebih singkat, yang menunjukkan kegunaannya untuk perjalanan ke tempat kerja"
   ]
  },
  {
   "cell_type": "markdown",
   "id": "7b25b372",
   "metadata": {},
   "source": [
    "### Recommendations\n",
    "+ Rekomendasi berikut dibuat dengan hati-hati untuk membantu memandu strategi pemasaran Cyclistic: \n",
    "    + Tingkatkan kampanye pemasaran yang ditargetkan pada pengendara biasa melalui email, pesan teks, dan pemberitahuan aplikasi selama bulan-bulan musim panas, ketika persewaan sepeda lebih sering terjadi. \n",
    "    + Iklan tersebut dapat menawarkan diskon khusus untuk keanggotaan tahunan guna mendorong pengendara biasa untuk beralih. \n",
    "    + Buat sistem poin hadiah untuk members, di mana setiap persewaan sepeda menambahkan sejumlah poin ke akun pengguna. Poin bisa bertambah dengan frekuensi sewa dan durasi perjalanan, dan pada setiap akhir tahun, pengguna dapat menukarkan poin dengan diskon perpanjangan keanggotaan. \n",
    "    + Cyclistic dapat belajar bermitra dengan perusahaan lokal dan menawarkan penawaran khusus di tempat-tempat seperti pusat kebugaran, bioskop, salon kecantikan, dan restoran. Berfokus pada segmen hiburan dan kesehatan dapat memotivasi pengendara kasual untuk mendaftar keanggotaan tahunan. Mengingat pengendara biasa tidak menyewa sepeda sebanyak anggota selama hari kerja, tim pemasaran Cyclistic juga harus mempertimbangkan kemungkinan untuk membuat dua jenis keanggotaan baru: Keanggotaan tahunan yang hanya mencakup akhir pekan. \n",
    "    + Dengan cara ini, pelanggan yang hanya menyewa sepeda dua kali seminggu dapat membayar sesuai dan tetap menambah jumlah anggota perusahaan yang terus bertambah. Keanggotaan musiman yang disesuaikan untuk sekelompok orang yang suka mengendarai sepeda selama musim panas, tetapi tidak tertarik untuk menyewanya selama sisa tahun ini. Keanggotaan jenis ini dapat ditagih setiap tahun, dan menawarkan diskon khusus dibandingkan dengan tiket satu perjalanan dan satu hari penuh. Pertimbangan Tambahan"
   ]
  },
  {
   "cell_type": "code",
   "execution_count": null,
   "id": "6fd81fd3",
   "metadata": {},
   "outputs": [],
   "source": []
  }
 ],
 "metadata": {
  "kernelspec": {
   "display_name": "Python 3 (ipykernel)",
   "language": "python",
   "name": "python3"
  },
  "language_info": {
   "codemirror_mode": {
    "name": "ipython",
    "version": 3
   },
   "file_extension": ".py",
   "mimetype": "text/x-python",
   "name": "python",
   "nbconvert_exporter": "python",
   "pygments_lexer": "ipython3",
   "version": "3.9.7"
  }
 },
 "nbformat": 4,
 "nbformat_minor": 5
}
